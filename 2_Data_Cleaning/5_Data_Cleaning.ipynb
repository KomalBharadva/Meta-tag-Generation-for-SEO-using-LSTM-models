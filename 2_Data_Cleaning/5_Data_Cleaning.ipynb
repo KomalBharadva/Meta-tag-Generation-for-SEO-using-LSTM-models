{
 "cells": [
  {
   "cell_type": "code",
   "execution_count": 1,
   "metadata": {},
   "outputs": [],
   "source": [
    "import pandas as pd\n",
    "import numpy as np\n",
    "import re"
   ]
  },
  {
   "cell_type": "markdown",
   "metadata": {},
   "source": [
    "## Get the Data and Merge All of the Datasets"
   ]
  },
  {
   "cell_type": "code",
   "execution_count": 2,
   "metadata": {},
   "outputs": [],
   "source": [
    "bi1_df = pd.read_csv('bigrams1_df.csv')\n",
    "bi2_df = pd.read_csv('bigrams2_df.csv')\n",
    "tri1_df = pd.read_csv('trigrams1_df.csv')\n",
    "tri2_df = pd.read_csv('trigrams2_df.csv')\n",
    "tri3_df = pd.read_csv('trigrams3_df.csv')\n",
    "tri4_df = pd.read_csv('trigrams4_df.csv')\n",
    "tri5_df = pd.read_csv('trigrams5_df.csv')\n",
    "tri6_df = pd.read_csv('trigrams6_df.csv')"
   ]
  },
  {
   "cell_type": "code",
   "execution_count": 3,
   "metadata": {},
   "outputs": [
    {
     "name": "stdout",
     "output_type": "stream",
     "text": [
      "(5000, 4)\n",
      "(5000, 4)\n",
      "(4000, 4)\n",
      "(4000, 4)\n",
      "(4000, 4)\n",
      "(4000, 4)\n",
      "(4000, 4)\n",
      "(4000, 4)\n"
     ]
    }
   ],
   "source": [
    "dfs = [bi1_df, bi2_df, tri1_df, tri2_df, tri3_df, tri4_df, tri5_df, tri6_df]\n",
    "\n",
    "for df in dfs:\n",
    "    print(df.shape)"
   ]
  },
  {
   "cell_type": "code",
   "execution_count": 4,
   "metadata": {},
   "outputs": [],
   "source": [
    "# concat accepts a list of dataframes to put together. I 'axis'\n",
    "# is not specified, concatenate them on top of the other. If 'axis'\n",
    "# is set to 1, concatenate them side by side.\n",
    "\n",
    "master_df = pd.concat(dfs, ignore_index=True)"
   ]
  },
  {
   "cell_type": "code",
   "execution_count": 5,
   "metadata": {},
   "outputs": [
    {
     "name": "stdout",
     "output_type": "stream",
     "text": [
      "<class 'pandas.core.frame.DataFrame'>\n",
      "RangeIndex: 34000 entries, 0 to 33999\n",
      "Data columns (total 4 columns):\n",
      " #   Column       Non-Null Count  Dtype \n",
      "---  ------       --------------  ----- \n",
      " 0   search_term  34000 non-null  object\n",
      " 1   url          34000 non-null  object\n",
      " 2   position     34000 non-null  int64 \n",
      " 3   metatags     34000 non-null  object\n",
      "dtypes: int64(1), object(3)\n",
      "memory usage: 1.0+ MB\n"
     ]
    }
   ],
   "source": [
    "master_df.info()"
   ]
  },
  {
   "cell_type": "markdown",
   "metadata": {},
   "source": [
    "## Clean the Data"
   ]
  },
  {
   "cell_type": "code",
   "execution_count": 6,
   "metadata": {},
   "outputs": [
    {
     "data": {
      "text/html": [
       "<div>\n",
       "<style scoped>\n",
       "    .dataframe tbody tr th:only-of-type {\n",
       "        vertical-align: middle;\n",
       "    }\n",
       "\n",
       "    .dataframe tbody tr th {\n",
       "        vertical-align: top;\n",
       "    }\n",
       "\n",
       "    .dataframe thead th {\n",
       "        text-align: right;\n",
       "    }\n",
       "</style>\n",
       "<table border=\"1\" class=\"dataframe\">\n",
       "  <thead>\n",
       "    <tr style=\"text-align: right;\">\n",
       "      <th></th>\n",
       "      <th>search_term</th>\n",
       "      <th>url</th>\n",
       "      <th>position</th>\n",
       "      <th>metatags</th>\n",
       "    </tr>\n",
       "  </thead>\n",
       "  <tbody>\n",
       "    <tr>\n",
       "      <th>0</th>\n",
       "      <td>fintech ability</td>\n",
       "      <td>https://www.instarem.com/blog/the-5-most-in-de...</td>\n",
       "      <td>2</td>\n",
       "      <td>[\"As FinTech gains momentum year-on-year, ther...</td>\n",
       "    </tr>\n",
       "    <tr>\n",
       "      <th>1</th>\n",
       "      <td>fintech ability</td>\n",
       "      <td>https://www.toptal.com/finance/investment-bank...</td>\n",
       "      <td>8</td>\n",
       "      <td>['Banks have the wealth and talent to respond ...</td>\n",
       "    </tr>\n",
       "    <tr>\n",
       "      <th>2</th>\n",
       "      <td>fintech ability</td>\n",
       "      <td>https://www.huxley.com/en-gb/blog/2020/09/the-...</td>\n",
       "      <td>1</td>\n",
       "      <td>['Jonny Demko, Business Manager from our team ...</td>\n",
       "    </tr>\n",
       "  </tbody>\n",
       "</table>\n",
       "</div>"
      ],
      "text/plain": [
       "       search_term                                                url  \\\n",
       "0  fintech ability  https://www.instarem.com/blog/the-5-most-in-de...   \n",
       "1  fintech ability  https://www.toptal.com/finance/investment-bank...   \n",
       "2  fintech ability  https://www.huxley.com/en-gb/blog/2020/09/the-...   \n",
       "\n",
       "   position                                           metatags  \n",
       "0         2  [\"As FinTech gains momentum year-on-year, ther...  \n",
       "1         8  ['Banks have the wealth and talent to respond ...  \n",
       "2         1  ['Jonny Demko, Business Manager from our team ...  "
      ]
     },
     "execution_count": 6,
     "metadata": {},
     "output_type": "execute_result"
    }
   ],
   "source": [
    "master_df.head(3)"
   ]
  },
  {
   "cell_type": "code",
   "execution_count": 7,
   "metadata": {},
   "outputs": [],
   "source": [
    "# remove [', \" and '] from the metatags column\n",
    "master_df['metatags'] = master_df['metatags'].str.replace(r'[\\[\\'|\\'\\]|\\\"]', '', regex=True)"
   ]
  },
  {
   "cell_type": "code",
   "execution_count": 8,
   "metadata": {},
   "outputs": [],
   "source": [
    "# Make empty strings in the metatags column NaN values\n",
    "def input_nan(string):\n",
    "    if len(string) == 0:\n",
    "        return np.nan\n",
    "    else:\n",
    "        return string\n",
    "    \n",
    "master_df['metatags'] = master_df['metatags'].apply(input_nan)"
   ]
  },
  {
   "cell_type": "code",
   "execution_count": 9,
   "metadata": {},
   "outputs": [],
   "source": [
    "# Remove dollar symbol from the strings to avoid parsing issues\r\n",
    "master_df['metatags'] = master_df['metatags'].replace({'\\$':''}, regex = True)"
   ]
  },
  {
   "cell_type": "code",
   "execution_count": 10,
   "metadata": {},
   "outputs": [],
   "source": [
    "# Drop the rows with NaN in the metatags column\n",
    "master_df.dropna(inplace=True)"
   ]
  },
  {
   "cell_type": "code",
   "execution_count": 11,
   "metadata": {},
   "outputs": [],
   "source": [
    "# Drop the rows with \"Link blocked\" or \"Connection timed out\" values in\n",
    "# the metatags column\n",
    "master_df = master_df[(master_df['metatags'] != \"Link blocked\") &\n",
    "                      (master_df['metatags'] != \"Connection timed out\")]"
   ]
  },
  {
   "cell_type": "code",
   "execution_count": 12,
   "metadata": {},
   "outputs": [
    {
     "data": {
      "text/plain": [
       "'https://iclg.com/practice-areas/fintech-laws-and-regulations/ireland'"
      ]
     },
     "execution_count": 12,
     "metadata": {},
     "output_type": "execute_result"
    }
   ],
   "source": [
    "# Get one of the duplicate links to check if the metatags are\r\n",
    "# actually the same\r\n",
    "master_df.loc[master_df.duplicated(subset='url', keep=\"first\")].iloc[12]['url']"
   ]
  },
  {
   "cell_type": "code",
   "execution_count": 13,
   "metadata": {},
   "outputs": [
    {
     "data": {
      "text/html": [
       "<div>\n",
       "<style scoped>\n",
       "    .dataframe tbody tr th:only-of-type {\n",
       "        vertical-align: middle;\n",
       "    }\n",
       "\n",
       "    .dataframe tbody tr th {\n",
       "        vertical-align: top;\n",
       "    }\n",
       "\n",
       "    .dataframe thead th {\n",
       "        text-align: right;\n",
       "    }\n",
       "</style>\n",
       "<table border=\"1\" class=\"dataframe\">\n",
       "  <thead>\n",
       "    <tr style=\"text-align: right;\">\n",
       "      <th></th>\n",
       "      <th>search_term</th>\n",
       "      <th>url</th>\n",
       "      <th>position</th>\n",
       "      <th>metatags</th>\n",
       "    </tr>\n",
       "  </thead>\n",
       "  <tbody>\n",
       "    <tr>\n",
       "      <th>71</th>\n",
       "      <td>fintech acting</td>\n",
       "      <td>https://iclg.com/practice-areas/fintech-laws-and-regulations/ireland</td>\n",
       "      <td>3</td>\n",
       "      <td>Fintech Laws and Regulations covering issues in Ireland of The Fintech Landscape, Funding for Fintech, Fintech Regulation, Accessing Talent, Technology</td>\n",
       "    </tr>\n",
       "    <tr>\n",
       "      <th>151</th>\n",
       "      <td>fintech allow</td>\n",
       "      <td>https://iclg.com/practice-areas/fintech-laws-and-regulations/ireland</td>\n",
       "      <td>2</td>\n",
       "      <td>Fintech Laws and Regulations covering issues in Ireland of The Fintech Landscape, Funding for Fintech, Fintech Regulation, Accessing Talent, Technology</td>\n",
       "    </tr>\n",
       "    <tr>\n",
       "      <th>256</th>\n",
       "      <td>fintech applies</td>\n",
       "      <td>https://iclg.com/practice-areas/fintech-laws-and-regulations/ireland</td>\n",
       "      <td>8</td>\n",
       "      <td>Fintech Laws and Regulations covering issues in Ireland of The Fintech Landscape, Funding for Fintech, Fintech Regulation, Accessing Talent, Technology</td>\n",
       "    </tr>\n",
       "    <tr>\n",
       "      <th>344</th>\n",
       "      <td>fintech authority</td>\n",
       "      <td>https://iclg.com/practice-areas/fintech-laws-and-regulations/ireland</td>\n",
       "      <td>4</td>\n",
       "      <td>Fintech Laws and Regulations covering issues in Ireland of The Fintech Landscape, Funding for Fintech, Fintech Regulation, Accessing Talent, Technology</td>\n",
       "    </tr>\n",
       "    <tr>\n",
       "      <th>1431</th>\n",
       "      <td>fintech enforcement</td>\n",
       "      <td>https://iclg.com/practice-areas/fintech-laws-and-regulations/ireland</td>\n",
       "      <td>5</td>\n",
       "      <td>Fintech Laws and Regulations covering issues in Ireland of The Fintech Landscape, Funding for Fintech, Fintech Regulation, Accessing Talent, Technology</td>\n",
       "    </tr>\n",
       "    <tr>\n",
       "      <th>...</th>\n",
       "      <td>...</td>\n",
       "      <td>...</td>\n",
       "      <td>...</td>\n",
       "      <td>...</td>\n",
       "    </tr>\n",
       "    <tr>\n",
       "      <th>27909</th>\n",
       "      <td>fintech issued form</td>\n",
       "      <td>https://iclg.com/practice-areas/fintech-laws-and-regulations/ireland</td>\n",
       "      <td>5</td>\n",
       "      <td>Fintech Laws and Regulations covering issues in Ireland of The Fintech Landscape, Funding for Fintech, Fintech Regulation, Accessing Talent, Technology</td>\n",
       "    </tr>\n",
       "    <tr>\n",
       "      <th>27967</th>\n",
       "      <td>fintech keep secure</td>\n",
       "      <td>https://iclg.com/practice-areas/fintech-laws-and-regulations/ireland</td>\n",
       "      <td>5</td>\n",
       "      <td>Fintech Laws and Regulations covering issues in Ireland of The Fintech Landscape, Funding for Fintech, Fintech Regulation, Accessing Talent, Technology</td>\n",
       "    </tr>\n",
       "    <tr>\n",
       "      <th>28160</th>\n",
       "      <td>fintech marketing main</td>\n",
       "      <td>https://iclg.com/practice-areas/fintech-laws-and-regulations/ireland</td>\n",
       "      <td>2</td>\n",
       "      <td>Fintech Laws and Regulations covering issues in Ireland of The Fintech Landscape, Funding for Fintech, Fintech Regulation, Accessing Talent, Technology</td>\n",
       "    </tr>\n",
       "    <tr>\n",
       "      <th>28636</th>\n",
       "      <td>fintech peer personal</td>\n",
       "      <td>https://iclg.com/practice-areas/fintech-laws-and-regulations/ireland</td>\n",
       "      <td>2</td>\n",
       "      <td>Fintech Laws and Regulations covering issues in Ireland of The Fintech Landscape, Funding for Fintech, Fintech Regulation, Accessing Talent, Technology</td>\n",
       "    </tr>\n",
       "    <tr>\n",
       "      <th>29130</th>\n",
       "      <td>fintech right unlicensed</td>\n",
       "      <td>https://iclg.com/practice-areas/fintech-laws-and-regulations/ireland</td>\n",
       "      <td>10</td>\n",
       "      <td>Fintech Laws and Regulations covering issues in Ireland of The Fintech Landscape, Funding for Fintech, Fintech Regulation, Accessing Talent, Technology</td>\n",
       "    </tr>\n",
       "  </tbody>\n",
       "</table>\n",
       "<p>61 rows × 4 columns</p>\n",
       "</div>"
      ],
      "text/plain": [
       "                    search_term  \\\n",
       "71               fintech acting   \n",
       "151               fintech allow   \n",
       "256             fintech applies   \n",
       "344           fintech authority   \n",
       "1431        fintech enforcement   \n",
       "...                         ...   \n",
       "27909       fintech issued form   \n",
       "27967       fintech keep secure   \n",
       "28160    fintech marketing main   \n",
       "28636     fintech peer personal   \n",
       "29130  fintech right unlicensed   \n",
       "\n",
       "                                                                        url  \\\n",
       "71     https://iclg.com/practice-areas/fintech-laws-and-regulations/ireland   \n",
       "151    https://iclg.com/practice-areas/fintech-laws-and-regulations/ireland   \n",
       "256    https://iclg.com/practice-areas/fintech-laws-and-regulations/ireland   \n",
       "344    https://iclg.com/practice-areas/fintech-laws-and-regulations/ireland   \n",
       "1431   https://iclg.com/practice-areas/fintech-laws-and-regulations/ireland   \n",
       "...                                                                     ...   \n",
       "27909  https://iclg.com/practice-areas/fintech-laws-and-regulations/ireland   \n",
       "27967  https://iclg.com/practice-areas/fintech-laws-and-regulations/ireland   \n",
       "28160  https://iclg.com/practice-areas/fintech-laws-and-regulations/ireland   \n",
       "28636  https://iclg.com/practice-areas/fintech-laws-and-regulations/ireland   \n",
       "29130  https://iclg.com/practice-areas/fintech-laws-and-regulations/ireland   \n",
       "\n",
       "       position  \\\n",
       "71            3   \n",
       "151           2   \n",
       "256           8   \n",
       "344           4   \n",
       "1431          5   \n",
       "...         ...   \n",
       "27909         5   \n",
       "27967         5   \n",
       "28160         2   \n",
       "28636         2   \n",
       "29130        10   \n",
       "\n",
       "                                                                                                                                                      metatags  \n",
       "71     Fintech Laws and Regulations covering issues in Ireland of The Fintech Landscape, Funding for Fintech, Fintech Regulation, Accessing Talent, Technology  \n",
       "151    Fintech Laws and Regulations covering issues in Ireland of The Fintech Landscape, Funding for Fintech, Fintech Regulation, Accessing Talent, Technology  \n",
       "256    Fintech Laws and Regulations covering issues in Ireland of The Fintech Landscape, Funding for Fintech, Fintech Regulation, Accessing Talent, Technology  \n",
       "344    Fintech Laws and Regulations covering issues in Ireland of The Fintech Landscape, Funding for Fintech, Fintech Regulation, Accessing Talent, Technology  \n",
       "1431   Fintech Laws and Regulations covering issues in Ireland of The Fintech Landscape, Funding for Fintech, Fintech Regulation, Accessing Talent, Technology  \n",
       "...                                                                                                                                                        ...  \n",
       "27909  Fintech Laws and Regulations covering issues in Ireland of The Fintech Landscape, Funding for Fintech, Fintech Regulation, Accessing Talent, Technology  \n",
       "27967  Fintech Laws and Regulations covering issues in Ireland of The Fintech Landscape, Funding for Fintech, Fintech Regulation, Accessing Talent, Technology  \n",
       "28160  Fintech Laws and Regulations covering issues in Ireland of The Fintech Landscape, Funding for Fintech, Fintech Regulation, Accessing Talent, Technology  \n",
       "28636  Fintech Laws and Regulations covering issues in Ireland of The Fintech Landscape, Funding for Fintech, Fintech Regulation, Accessing Talent, Technology  \n",
       "29130  Fintech Laws and Regulations covering issues in Ireland of The Fintech Landscape, Funding for Fintech, Fintech Regulation, Accessing Talent, Technology  \n",
       "\n",
       "[61 rows x 4 columns]"
      ]
     },
     "execution_count": 13,
     "metadata": {},
     "output_type": "execute_result"
    }
   ],
   "source": [
    "# Set the display of the dataframe to show all the text in the column\n",
    "pd.set_option('display.max_colwidth', None)\n",
    "\n",
    "# Check if the metatags of the example taken above are\n",
    "# equal\n",
    "master_df.loc[master_df[\"url\"] == 'https://iclg.com/practice-areas/fintech-laws-and-regulations/ireland']"
   ]
  },
  {
   "cell_type": "code",
   "execution_count": 14,
   "metadata": {},
   "outputs": [],
   "source": [
    "# Drop the rows that have duplicate value in the url column\n",
    "master_df.drop_duplicates(subset='url',\n",
    "                          ignore_index=True,\n",
    "                          inplace=True)"
   ]
  },
  {
   "cell_type": "code",
   "execution_count": 15,
   "metadata": {},
   "outputs": [
    {
     "data": {
      "text/html": [
       "<div>\n",
       "<style scoped>\n",
       "    .dataframe tbody tr th:only-of-type {\n",
       "        vertical-align: middle;\n",
       "    }\n",
       "\n",
       "    .dataframe tbody tr th {\n",
       "        vertical-align: top;\n",
       "    }\n",
       "\n",
       "    .dataframe thead th {\n",
       "        text-align: right;\n",
       "    }\n",
       "</style>\n",
       "<table border=\"1\" class=\"dataframe\">\n",
       "  <thead>\n",
       "    <tr style=\"text-align: right;\">\n",
       "      <th></th>\n",
       "      <th>search_term</th>\n",
       "      <th>url</th>\n",
       "      <th>position</th>\n",
       "      <th>metatags</th>\n",
       "    </tr>\n",
       "  </thead>\n",
       "  <tbody>\n",
       "    <tr>\n",
       "      <th>0</th>\n",
       "      <td>fintech ability</td>\n",
       "      <td>https://www.instarem.com/blog/the-5-most-in-demand-skills-in-the-fintech-industry/</td>\n",
       "      <td>2</td>\n",
       "      <td>As FinTech gains momentum year-on-year, there is a huge demand for professionals with specific FinTech skills. However, when it comes to tech talent, demand definitely outstrips supply. According to LinkedIn, the global skills gap for candidates with tech experience/expertise will hit 1.5 million by 2020. Thus, FinTech is a candidates market, and firms in the industry are scrambling to find skilled employees to fulfill critical roles.</td>\n",
       "    </tr>\n",
       "    <tr>\n",
       "      <th>1</th>\n",
       "      <td>fintech ability</td>\n",
       "      <td>https://www.toptal.com/finance/investment-banking-freelancer/fintech-and-banks</td>\n",
       "      <td>8</td>\n",
       "      <td>Banks have the wealth and talent to respond to fintech disruption; by changing industry habits and norms, they can position themselves better for the future.</td>\n",
       "    </tr>\n",
       "    <tr>\n",
       "      <th>2</th>\n",
       "      <td>fintech ability</td>\n",
       "      <td>https://www.huxley.com/en-gb/blog/2020/09/the-most-in-demand-skills-for-fintech/</td>\n",
       "      <td>1</td>\n",
       "      <td>Jonny Demko, Business Manager from our team in the London office, talks us through the top skills in demand within Fintech right now., Fintech\\nsoftware development\\nblockchain\\ndata\\ncybersecurity\\nDevOps\\nautomation</td>\n",
       "    </tr>\n",
       "    <tr>\n",
       "      <th>3</th>\n",
       "      <td>fintech ability</td>\n",
       "      <td>https://fintechireland.com/index.html</td>\n",
       "      <td>7</td>\n",
       "      <td>Making Ireland the home of fintech</td>\n",
       "    </tr>\n",
       "    <tr>\n",
       "      <th>4</th>\n",
       "      <td>fintech ability</td>\n",
       "      <td>https://www.bobsguide.com/guide/news/2020/Dec/4/the-complexities-of-creating-fintech-and-how-to-overcome-them/</td>\n",
       "      <td>10</td>\n",
       "      <td>The complexities of creating fintech and how to overcome them, \\r\\n\\r\\nOne of the biggest changes to come from the coronavirus pandemic is the effect it’s had on consumers’ expectations. The increased reliance on digital solutions has, in turn, opened people’s eyes to the convenience (or inconvenience) of managing their financial affairs online.\\r\\n\\r\\nYobota recently commissioned a survey of over 2,000 UK adults to explore how satisfied customers are with their banks in 2020. The majority (58 percent) said they want more power to renegotiate or change their accounts or products, with a third (33 percent) expressing frustrations at having to choose from generic, off-the-shelf financial products.\\r\\n\\r\\nDemand for greater control and more flexible, personalised products is on the rise. These demands can be met, but only if financial institutions and technology vendors are progressive in the development and application of fintech.\\r\\n\\r\\nWhether banks build it or buy it, there is a fundamental need to understand how fintech is created. And, moreover, how to do it well.\\r\\n\\r\\nAddressing the regulation barrier\\r\\n\\r\\nFinance, and by extension fintech, is a heavily regulated industry. A fintech creator’s ability to navigate the regulatory landscape and ensure it remains compliant with all the necessary checks is key to winning the confidence of the public, as well as potential clients and partners.\\r\\n\\r\\nOften, a huge volume of work is required. Rules can change over time (even temporarily, as we have seen in some cases this year), and there’s always room for interpretation in the principle-based regulatory approach.\\r\\n\\r\\nHaving a team of compliance experts on board is crucial to effectively handle any regulatory demands, particularly as the business scales – both in terms of its user base, and as it crosses borders into new regulatory environments.\\r\\n\\r\\nBusinesses must always remain forthcoming and transparent about the steps they are taking to protect the consumer, and consequently the reputation of their business partner(s).\\r\\n\\r\\nWhat problem are you solving, and who are you solving it for?\\r\\n\\r\\nIt is easy to overlook the basics when you set out to bring a new product to market and instead get bogged down in developing features. I would encourage vendors to take a step back and consider the bigger picture before delving into the technical aspects of product development.\\r\\n\\r\\nWhat challenge are you going to solve first? Is it an issue related to payment infrastructure, insurance, or investment management? Fintech is an incredibly broad industry, so it’s important to be clear on your goals. Are you going to improve or replace something that already exists, or are you looking to bring something entirely new to the market? These are all questions that should be asked in the very initial stages of development.\\r\\n\\r\\nFeatures are important, but they are often a secondary reason a customer will buy or use a product. So, it’s important that your offering provides a valuable solution to a very specific problem before worrying about the finer details.\\r\\n\\r\\nTo that end, knowing your client is crucial. Product and engineering teams need to have a clear focus as to their end goal and have a strong understanding of who they are building the product for.\\r\\n\\r\\nA technology vendor must be specific and strategic when it comes to pursuing the right clients (a particular type of financial services firm, for instance), while also keeping in mind the cultural fit between their team and prospective partners. Ensuring there is a mutual understanding of what the overall vision is and how it will be achieved – including the practical implementation, timeline and costs – will establish a strong foundation for the business-to-business relationship.\\r\\n\\r\\nAligning the best technology with best practice\\r\\n\\r\\nMeaningful digital transformation is achieved when the best technology aligns with best practice. Developers must resist the urge to jump on the latest technology trends, which might, at best, increase the cost of development or, at worst, significantly set back progress.\\r\\n\\r\\nEffective innovation ultimately comes from creating a stronger value proposition for clients. If exciting new architectures or programming languages don’t achieve this, then it is best to leave them out of the equation.\\r\\n\\r\\nFintech needs to be created in modern ways, with proven foundational principles in mind. Engineers must be certain their product will remain relevant and valuable for years to come, even if they are no longer there to support it.\\r\\n\\r\\nThe end user is key\\r\\n\\r\\nThe coronavirus pandemic has made it patently clear that the most successful finance companies are those that have formed partnerships to create technology which can be used seamlessly between separate banking products and accounts. Yobota’s aforementioned research is evidence of that; banking customers are becoming increasingly frustrated with inflexible products and services.\\r\\n\\r\\nThe quality and functionality of digital solutions is going to remain of utmost importance going forward. Once people have a taste for the speed, ease and convenience of being able to manage their finance affairs digitally, they will not settle for a return to in-branch meetings, lengthy telephone calls or slow exchanges of paperwork.\\r\\n\\r\\nThat is why the voice of the customer must always drive development roadmaps. After all, the happiness of the end user is the strongest indication of success.\\r\\n\\r\\nFintechs must consider how they can deftly leverage new and advancing technology to continue to make the customer experience even better, while also improving their underlying product. Interoperability – the ease of integration with other providers – is also an important consideration to bear in mind.\\r\\n\\r\\nProgressive fintech promotes partnerships and interoperability to reduce the roadblocks that customers encounter – and it will find innovative ways to bring all of these services into one product.\\r\\n\\r\\nThe success of finance companies in the months ahead will, in no small part, be determined by their ability to keep pace with the technological change that is taking place. There is no doubt that developing fintech solutions that are fit for purpose in today’s market is a tall order, but the reward comes from seeing the difference it makes to businesses’ and consumers’ everyday</td>\n",
       "    </tr>\n",
       "    <tr>\n",
       "      <th>...</th>\n",
       "      <td>...</td>\n",
       "      <td>...</td>\n",
       "      <td>...</td>\n",
       "      <td>...</td>\n",
       "    </tr>\n",
       "    <tr>\n",
       "      <th>6766</th>\n",
       "      <td>fintech warn spend</td>\n",
       "      <td>http://womeninfintech.co.uk/</td>\n",
       "      <td>6</td>\n",
       "      <td>Help us create Innovate Finances 2017 Women in FinTech powerlist</td>\n",
       "    </tr>\n",
       "    <tr>\n",
       "      <th>6767</th>\n",
       "      <td>fintech wave unicorn</td>\n",
       "      <td>https://www.storey.co.uk/our-latest-storey/fintech-creating-community</td>\n",
       "      <td>1</td>\n",
       "      <td>FinTech: creating a community at Storey London It is also a relatively new sector, with the term being used to describe an evolving ecosystem of companies. Read More…</td>\n",
       "    </tr>\n",
       "    <tr>\n",
       "      <th>6768</th>\n",
       "      <td>fintech worth employment</td>\n",
       "      <td>https://www.uktech.news/news/london-based-payment-fintech-ppro-becomes-unicorn-as-it-secures-132m-funding-20210120</td>\n",
       "      <td>2</td>\n",
       "      <td>PPRO, a fintech provider of local payment infrastructure for online commerce has secured 180M (approx £132M) funding from investors</td>\n",
       "    </tr>\n",
       "    <tr>\n",
       "      <th>6769</th>\n",
       "      <td>fintech worth employment</td>\n",
       "      <td>https://ibsintelligence.com/ibsi-news/5-innovative-fintechs-disrupting-the-uk-payment-ecosystem/</td>\n",
       "      <td>4</td>\n",
       "      <td>The unbundling of financial services allows FinTech start-ups and scaleups to provide more efficient and streamlined offerings, and to disrupt traditional banking, payment, and lending services.</td>\n",
       "    </tr>\n",
       "    <tr>\n",
       "      <th>6770</th>\n",
       "      <td>fintech worth employment</td>\n",
       "      <td>https://www.finextra.com/pressarticle/83344/london-fintech-startup-sync-turns-to-gps-for-payment-processing</td>\n",
       "      <td>8</td>\n",
       "      <td>Global Processing Services (GPS) has today announced that it has partnered with London-based fintech, sync., to power the payments processing function of sync.’s debit cards., Finextra,news,online,bank,banking,technology,finance,financial,fin,tech,fintech,IT,breaking,latest,retail,transaction,trade,execution,headlines,blockchain,digital,investment,mobile,business,challenger,payments,regtech,insurtech,services</td>\n",
       "    </tr>\n",
       "  </tbody>\n",
       "</table>\n",
       "<p>6771 rows × 4 columns</p>\n",
       "</div>"
      ],
      "text/plain": [
       "                   search_term  \\\n",
       "0              fintech ability   \n",
       "1              fintech ability   \n",
       "2              fintech ability   \n",
       "3              fintech ability   \n",
       "4              fintech ability   \n",
       "...                        ...   \n",
       "6766        fintech warn spend   \n",
       "6767      fintech wave unicorn   \n",
       "6768  fintech worth employment   \n",
       "6769  fintech worth employment   \n",
       "6770  fintech worth employment   \n",
       "\n",
       "                                                                                                                     url  \\\n",
       "0                                     https://www.instarem.com/blog/the-5-most-in-demand-skills-in-the-fintech-industry/   \n",
       "1                                         https://www.toptal.com/finance/investment-banking-freelancer/fintech-and-banks   \n",
       "2                                       https://www.huxley.com/en-gb/blog/2020/09/the-most-in-demand-skills-for-fintech/   \n",
       "3                                                                                  https://fintechireland.com/index.html   \n",
       "4         https://www.bobsguide.com/guide/news/2020/Dec/4/the-complexities-of-creating-fintech-and-how-to-overcome-them/   \n",
       "...                                                                                                                  ...   \n",
       "6766                                                                                        http://womeninfintech.co.uk/   \n",
       "6767                                               https://www.storey.co.uk/our-latest-storey/fintech-creating-community   \n",
       "6768  https://www.uktech.news/news/london-based-payment-fintech-ppro-becomes-unicorn-as-it-secures-132m-funding-20210120   \n",
       "6769                    https://ibsintelligence.com/ibsi-news/5-innovative-fintechs-disrupting-the-uk-payment-ecosystem/   \n",
       "6770         https://www.finextra.com/pressarticle/83344/london-fintech-startup-sync-turns-to-gps-for-payment-processing   \n",
       "\n",
       "      position  \\\n",
       "0            2   \n",
       "1            8   \n",
       "2            1   \n",
       "3            7   \n",
       "4           10   \n",
       "...        ...   \n",
       "6766         6   \n",
       "6767         1   \n",
       "6768         2   \n",
       "6769         4   \n",
       "6770         8   \n",
       "\n",
       "                                                                                                                                                                                                                                                                                                                                                                                                                                                                                                                                                                                                                                                                                                                                                                                                                                                                                                                                                                                                                                                                                                                                                                                                                                                                                                                                                                                                                                                                                                                                                                                                                                                                                                                                                                                                                                                                                                                                                                                                                                                                                                                                                                                                                                                                                                                                                                                                                                                                                                                                                                                                                                                                                                                                                                                                                                                                                                                                                                                                                                                                                                                                                                                                                                                                                                                                                                                                                                                                                                                                                                                                                                                                                                                                                                                                                                                                                                                                                                                                                                                                                                                                                                                                                                                                                                                                                                                                                                                                                                                                                                                                                                                                                                                                                                                                                                                                                                                                                                                                                                                                                                                                                                                                                                                                                                                                                                                                                                                                                                                                                                                                                                                                                                                                                                                                                                                                                                                                                                                                                                                                                                                                                                                                                                                                                                                                                                                                                                                                                                                                                                                                                                                                                             metatags  \n",
       "0                                                                                                                                                                                                                                                                                                                                                                                                                                                                                                                                                                                                                                                                                                                                                                                                                                                                                                                                                                                                                                                                                                                                                                                                                                                                                                                                                                                                                                                                                                                                                                                                                                                                                                                                                                                                                                                                                                                                                                                                                                                                                                                                                                                                                                                                                                                                                                                                                                                                                                                                                                                                                                                                                                                                                                                                                                                                                                                                                                                                                                                                                                                                                                                                                                                                                                                                                                                                                                                                                                                                                                                                                                                                                                                                                                                                                                                                                                                                                                                                                                                                                                                                                                                                                                                                                                                                                                                                                                                                                                                                                                                                                                                                                                                                                                                                                                                                                                                                                                                                                                                                                                                                                                                                                                                                                                                                                                                                                                                                                                                                                                                                                                                                                                                                                                                                                                                                                                                                                                                                                                                                                                                                                                                                                                              As FinTech gains momentum year-on-year, there is a huge demand for professionals with specific FinTech skills. However, when it comes to tech talent, demand definitely outstrips supply. According to LinkedIn, the global skills gap for candidates with tech experience/expertise will hit 1.5 million by 2020. Thus, FinTech is a candidates market, and firms in the industry are scrambling to find skilled employees to fulfill critical roles.  \n",
       "1                                                                                                                                                                                                                                                                                                                                                                                                                                                                                                                                                                                                                                                                                                                                                                                                                                                                                                                                                                                                                                                                                                                                                                                                                                                                                                                                                                                                                                                                                                                                                                                                                                                                                                                                                                                                                                                                                                                                                                                                                                                                                                                                                                                                                                                                                                                                                                                                                                                                                                                                                                                                                                                                                                                                                                                                                                                                                                                                                                                                                                                                                                                                                                                                                                                                                                                                                                                                                                                                                                                                                                                                                                                                                                                                                                                                                                                                                                                                                                                                                                                                                                                                                                                                                                                                                                                                                                                                                                                                                                                                                                                                                                                                                                                                                                                                                                                                                                                                                                                                                                                                                                                                                                                                                                                                                                                                                                                                                                                                                                                                                                                                                                                                                                                                                                                                                                                                                                                                                                                                                                                                                                                                                                                                                                                                                                                                                                                                                                                                                                                                       Banks have the wealth and talent to respond to fintech disruption; by changing industry habits and norms, they can position themselves better for the future.  \n",
       "2                                                                                                                                                                                                                                                                                                                                                                                                                                                                                                                                                                                                                                                                                                                                                                                                                                                                                                                                                                                                                                                                                                                                                                                                                                                                                                                                                                                                                                                                                                                                                                                                                                                                                                                                                                                                                                                                                                                                                                                                                                                                                                                                                                                                                                                                                                                                                                                                                                                                                                                                                                                                                                                                                                                                                                                                                                                                                                                                                                                                                                                                                                                                                                                                                                                                                                                                                                                                                                                                                                                                                                                                                                                                                                                                                                                                                                                                                                                                                                                                                                                                                                                                                                                                                                                                                                                                                                                                                                                                                                                                                                                                                                                                                                                                                                                                                                                                                                                                                                                                                                                                                                                                                                                                                                                                                                                                                                                                                                                                                                                                                                                                                                                                                                                                                                                                                                                                                                                                                                                                                                                                                                                                                                                                                                                                                                                                                                                                                                                                           Jonny Demko, Business Manager from our team in the London office, talks us through the top skills in demand within Fintech right now., Fintech\\nsoftware development\\nblockchain\\ndata\\ncybersecurity\\nDevOps\\nautomation  \n",
       "3                                                                                                                                                                                                                                                                                                                                                                                                                                                                                                                                                                                                                                                                                                                                                                                                                                                                                                                                                                                                                                                                                                                                                                                                                                                                                                                                                                                                                                                                                                                                                                                                                                                                                                                                                                                                                                                                                                                                                                                                                                                                                                                                                                                                                                                                                                                                                                                                                                                                                                                                                                                                                                                                                                                                                                                                                                                                                                                                                                                                                                                                                                                                                                                                                                                                                                                                                                                                                                                                                                                                                                                                                                                                                                                                                                                                                                                                                                                                                                                                                                                                                                                                                                                                                                                                                                                                                                                                                                                                                                                                                                                                                                                                                                                                                                                                                                                                                                                                                                                                                                                                                                                                                                                                                                                                                                                                                                                                                                                                                                                                                                                                                                                                                                                                                                                                                                                                                                                                                                                                                                                                                                                                                                                                                                                                                                                                                                                                                                                                                                                                                                                                                                                                  Making Ireland the home of fintech  \n",
       "4     The complexities of creating fintech and how to overcome them, \\r\\n\\r\\nOne of the biggest changes to come from the coronavirus pandemic is the effect it’s had on consumers’ expectations. The increased reliance on digital solutions has, in turn, opened people’s eyes to the convenience (or inconvenience) of managing their financial affairs online.\\r\\n\\r\\nYobota recently commissioned a survey of over 2,000 UK adults to explore how satisfied customers are with their banks in 2020. The majority (58 percent) said they want more power to renegotiate or change their accounts or products, with a third (33 percent) expressing frustrations at having to choose from generic, off-the-shelf financial products.\\r\\n\\r\\nDemand for greater control and more flexible, personalised products is on the rise. These demands can be met, but only if financial institutions and technology vendors are progressive in the development and application of fintech.\\r\\n\\r\\nWhether banks build it or buy it, there is a fundamental need to understand how fintech is created. And, moreover, how to do it well.\\r\\n\\r\\nAddressing the regulation barrier\\r\\n\\r\\nFinance, and by extension fintech, is a heavily regulated industry. A fintech creator’s ability to navigate the regulatory landscape and ensure it remains compliant with all the necessary checks is key to winning the confidence of the public, as well as potential clients and partners.\\r\\n\\r\\nOften, a huge volume of work is required. Rules can change over time (even temporarily, as we have seen in some cases this year), and there’s always room for interpretation in the principle-based regulatory approach.\\r\\n\\r\\nHaving a team of compliance experts on board is crucial to effectively handle any regulatory demands, particularly as the business scales – both in terms of its user base, and as it crosses borders into new regulatory environments.\\r\\n\\r\\nBusinesses must always remain forthcoming and transparent about the steps they are taking to protect the consumer, and consequently the reputation of their business partner(s).\\r\\n\\r\\nWhat problem are you solving, and who are you solving it for?\\r\\n\\r\\nIt is easy to overlook the basics when you set out to bring a new product to market and instead get bogged down in developing features. I would encourage vendors to take a step back and consider the bigger picture before delving into the technical aspects of product development.\\r\\n\\r\\nWhat challenge are you going to solve first? Is it an issue related to payment infrastructure, insurance, or investment management? Fintech is an incredibly broad industry, so it’s important to be clear on your goals. Are you going to improve or replace something that already exists, or are you looking to bring something entirely new to the market? These are all questions that should be asked in the very initial stages of development.\\r\\n\\r\\nFeatures are important, but they are often a secondary reason a customer will buy or use a product. So, it’s important that your offering provides a valuable solution to a very specific problem before worrying about the finer details.\\r\\n\\r\\nTo that end, knowing your client is crucial. Product and engineering teams need to have a clear focus as to their end goal and have a strong understanding of who they are building the product for.\\r\\n\\r\\nA technology vendor must be specific and strategic when it comes to pursuing the right clients (a particular type of financial services firm, for instance), while also keeping in mind the cultural fit between their team and prospective partners. Ensuring there is a mutual understanding of what the overall vision is and how it will be achieved – including the practical implementation, timeline and costs – will establish a strong foundation for the business-to-business relationship.\\r\\n\\r\\nAligning the best technology with best practice\\r\\n\\r\\nMeaningful digital transformation is achieved when the best technology aligns with best practice. Developers must resist the urge to jump on the latest technology trends, which might, at best, increase the cost of development or, at worst, significantly set back progress.\\r\\n\\r\\nEffective innovation ultimately comes from creating a stronger value proposition for clients. If exciting new architectures or programming languages don’t achieve this, then it is best to leave them out of the equation.\\r\\n\\r\\nFintech needs to be created in modern ways, with proven foundational principles in mind. Engineers must be certain their product will remain relevant and valuable for years to come, even if they are no longer there to support it.\\r\\n\\r\\nThe end user is key\\r\\n\\r\\nThe coronavirus pandemic has made it patently clear that the most successful finance companies are those that have formed partnerships to create technology which can be used seamlessly between separate banking products and accounts. Yobota’s aforementioned research is evidence of that; banking customers are becoming increasingly frustrated with inflexible products and services.\\r\\n\\r\\nThe quality and functionality of digital solutions is going to remain of utmost importance going forward. Once people have a taste for the speed, ease and convenience of being able to manage their finance affairs digitally, they will not settle for a return to in-branch meetings, lengthy telephone calls or slow exchanges of paperwork.\\r\\n\\r\\nThat is why the voice of the customer must always drive development roadmaps. After all, the happiness of the end user is the strongest indication of success.\\r\\n\\r\\nFintechs must consider how they can deftly leverage new and advancing technology to continue to make the customer experience even better, while also improving their underlying product. Interoperability – the ease of integration with other providers – is also an important consideration to bear in mind.\\r\\n\\r\\nProgressive fintech promotes partnerships and interoperability to reduce the roadblocks that customers encounter – and it will find innovative ways to bring all of these services into one product.\\r\\n\\r\\nThe success of finance companies in the months ahead will, in no small part, be determined by their ability to keep pace with the technological change that is taking place. There is no doubt that developing fintech solutions that are fit for purpose in today’s market is a tall order, but the reward comes from seeing the difference it makes to businesses’ and consumers’ everyday  \n",
       "...                                                                                                                                                                                                                                                                                                                                                                                                                                                                                                                                                                                                                                                                                                                                                                                                                                                                                                                                                                                                                                                                                                                                                                                                                                                                                                                                                                                                                                                                                                                                                                                                                                                                                                                                                                                                                                                                                                                                                                                                                                                                                                                                                                                                                                                                                                                                                                                                                                                                                                                                                                                                                                                                                                                                                                                                                                                                                                                                                                                                                                                                                                                                                                                                                                                                                                                                                                                                                                                                                                                                                                                                                                                                                                                                                                                                                                                                                                                                                                                                                                                                                                                                                                                                                                                                                                                                                                                                                                                                                                                                                                                                                                                                                                                                                                                                                                                                                                                                                                                                                                                                                                                                                                                                                                                                                                                                                                                                                                                                                                                                                                                                                                                                                                                                                                                                                                                                                                                                                                                                                                                                                                                                                                                                                                                                                                                                                                                                                                                                                                                                                                                                                                                                                               ...  \n",
       "6766                                                                                                                                                                                                                                                                                                                                                                                                                                                                                                                                                                                                                                                                                                                                                                                                                                                                                                                                                                                                                                                                                                                                                                                                                                                                                                                                                                                                                                                                                                                                                                                                                                                                                                                                                                                                                                                                                                                                                                                                                                                                                                                                                                                                                                                                                                                                                                                                                                                                                                                                                                                                                                                                                                                                                                                                                                                                                                                                                                                                                                                                                                                                                                                                                                                                                                                                                                                                                                                                                                                                                                                                                                                                                                                                                                                                                                                                                                                                                                                                                                                                                                                                                                                                                                                                                                                                                                                                                                                                                                                                                                                                                                                                                                                                                                                                                                                                                                                                                                                                                                                                                                                                                                                                                                                                                                                                                                                                                                                                                                                                                                                                                                                                                                                                                                                                                                                                                                                                                                                                                                                                                                                                                                                                                                                                                                                                                                                                                                                                                                                                                                                                                                 Help us create Innovate Finances 2017 Women in FinTech powerlist  \n",
       "6767                                                                                                                                                                                                                                                                                                                                                                                                                                                                                                                                                                                                                                                                                                                                                                                                                                                                                                                                                                                                                                                                                                                                                                                                                                                                                                                                                                                                                                                                                                                                                                                                                                                                                                                                                                                                                                                                                                                                                                                                                                                                                                                                                                                                                                                                                                                                                                                                                                                                                                                                                                                                                                                                                                                                                                                                                                                                                                                                                                                                                                                                                                                                                                                                                                                                                                                                                                                                                                                                                                                                                                                                                                                                                                                                                                                                                                                                                                                                                                                                                                                                                                                                                                                                                                                                                                                                                                                                                                                                                                                                                                                                                                                                                                                                                                                                                                                                                                                                                                                                                                                                                                                                                                                                                                                                                                                                                                                                                                                                                                                                                                                                                                                                                                                                                                                                                                                                                                                                                                                                                                                                                                                                                                                                                                                                                                                                                                                                                                                                                                                           FinTech: creating a community at Storey London It is also a relatively new sector, with the term being used to describe an evolving ecosystem of companies. Read More…  \n",
       "6768                                                                                                                                                                                                                                                                                                                                                                                                                                                                                                                                                                                                                                                                                                                                                                                                                                                                                                                                                                                                                                                                                                                                                                                                                                                                                                                                                                                                                                                                                                                                                                                                                                                                                                                                                                                                                                                                                                                                                                                                                                                                                                                                                                                                                                                                                                                                                                                                                                                                                                                                                                                                                                                                                                                                                                                                                                                                                                                                                                                                                                                                                                                                                                                                                                                                                                                                                                                                                                                                                                                                                                                                                                                                                                                                                                                                                                                                                                                                                                                                                                                                                                                                                                                                                                                                                                                                                                                                                                                                                                                                                                                                                                                                                                                                                                                                                                                                                                                                                                                                                                                                                                                                                                                                                                                                                                                                                                                                                                                                                                                                                                                                                                                                                                                                                                                                                                                                                                                                                                                                                                                                                                                                                                                                                                                                                                                                                                                                                                                                                                                                                              PPRO, a fintech provider of local payment infrastructure for online commerce has secured 180M (approx £132M) funding from investors  \n",
       "6769                                                                                                                                                                                                                                                                                                                                                                                                                                                                                                                                                                                                                                                                                                                                                                                                                                                                                                                                                                                                                                                                                                                                                                                                                                                                                                                                                                                                                                                                                                                                                                                                                                                                                                                                                                                                                                                                                                                                                                                                                                                                                                                                                                                                                                                                                                                                                                                                                                                                                                                                                                                                                                                                                                                                                                                                                                                                                                                                                                                                                                                                                                                                                                                                                                                                                                                                                                                                                                                                                                                                                                                                                                                                                                                                                                                                                                                                                                                                                                                                                                                                                                                                                                                                                                                                                                                                                                                                                                                                                                                                                                                                                                                                                                                                                                                                                                                                                                                                                                                                                                                                                                                                                                                                                                                                                                                                                                                                                                                                                                                                                                                                                                                                                                                                                                                                                                                                                                                                                                                                                                                                                                                                                                                                                                                                                                                                                                                                                                                                                               The unbundling of financial services allows FinTech start-ups and scaleups to provide more efficient and streamlined offerings, and to disrupt traditional banking, payment, and lending services.  \n",
       "6770                                                                                                                                                                                                                                                                                                                                                                                                                                                                                                                                                                                                                                                                                                                                                                                                                                                                                                                                                                                                                                                                                                                                                                                                                                                                                                                                                                                                                                                                                                                                                                                                                                                                                                                                                                                                                                                                                                                                                                                                                                                                                                                                                                                                                                                                                                                                                                                                                                                                                                                                                                                                                                                                                                                                                                                                                                                                                                                                                                                                                                                                                                                                                                                                                                                                                                                                                                                                                                                                                                                                                                                                                                                                                                                                                                                                                                                                                                                                                                                                                                                                                                                                                                                                                                                                                                                                                                                                                                                                                                                                                                                                                                                                                                                                                                                                                                                                                                                                                                                                                                                                                                                                                                                                                                                                                                                                                                                                                                                                                                                                                                                                                                                                                                                                                                                                                                                                                                                                                                                                                                                                                                                                                                                                                                                                     Global Processing Services (GPS) has today announced that it has partnered with London-based fintech, sync., to power the payments processing function of sync.’s debit cards., Finextra,news,online,bank,banking,technology,finance,financial,fin,tech,fintech,IT,breaking,latest,retail,transaction,trade,execution,headlines,blockchain,digital,investment,mobile,business,challenger,payments,regtech,insurtech,services  \n",
       "\n",
       "[6771 rows x 4 columns]"
      ]
     },
     "execution_count": 15,
     "metadata": {},
     "output_type": "execute_result"
    }
   ],
   "source": [
    "master_df"
   ]
  },
  {
   "cell_type": "code",
   "execution_count": 16,
   "metadata": {},
   "outputs": [
    {
     "name": "stdout",
     "output_type": "stream",
     "text": [
      "<class 'pandas.core.frame.DataFrame'>\n",
      "RangeIndex: 6771 entries, 0 to 6770\n",
      "Data columns (total 4 columns):\n",
      " #   Column       Non-Null Count  Dtype \n",
      "---  ------       --------------  ----- \n",
      " 0   search_term  6771 non-null   object\n",
      " 1   url          6771 non-null   object\n",
      " 2   position     6771 non-null   int64 \n",
      " 3   metatags     6771 non-null   object\n",
      "dtypes: int64(1), object(3)\n",
      "memory usage: 211.7+ KB\n"
     ]
    }
   ],
   "source": [
    "master_df.info()"
   ]
  },
  {
   "cell_type": "code",
   "execution_count": 17,
   "metadata": {},
   "outputs": [
    {
     "data": {
      "text/plain": [
       "1317"
      ]
     },
     "execution_count": 17,
     "metadata": {},
     "output_type": "execute_result"
    }
   ],
   "source": [
    "master_df['search_term'].nunique()"
   ]
  },
  {
   "cell_type": "markdown",
   "metadata": {},
   "source": [
    "---\n",
    "\n",
    "## Group Search Terms and Concatenate their Strings"
   ]
  },
  {
   "cell_type": "code",
   "execution_count": 52,
   "metadata": {},
   "outputs": [],
   "source": [
    "concat_df = master_df.groupby('search_term')['metatags'].apply(' '.join).reset_index()"
   ]
  },
  {
   "cell_type": "code",
   "execution_count": 60,
   "metadata": {
    "collapsed": true,
    "jupyter": {
     "outputs_hidden": true
    }
   },
   "outputs": [
    {
     "data": {
      "text/html": [
       "<div>\n",
       "<style scoped>\n",
       "    .dataframe tbody tr th:only-of-type {\n",
       "        vertical-align: middle;\n",
       "    }\n",
       "\n",
       "    .dataframe tbody tr th {\n",
       "        vertical-align: top;\n",
       "    }\n",
       "\n",
       "    .dataframe thead th {\n",
       "        text-align: right;\n",
       "    }\n",
       "</style>\n",
       "<table border=\"1\" class=\"dataframe\">\n",
       "  <thead>\n",
       "    <tr style=\"text-align: right;\">\n",
       "      <th></th>\n",
       "      <th>search_term</th>\n",
       "      <th>metatags</th>\n",
       "    </tr>\n",
       "  </thead>\n",
       "  <tbody>\n",
       "    <tr>\n",
       "      <th>715</th>\n",
       "      <td>fintech jobs longer</td>\n",
       "      <td>What’s it really like working in fintech? We spoke to some industry professionals about the common myths on working in the sector. There are so many different roles up for grabs in the world of fintech. Here are the skills you need to develop to succeed. Fintech companies without proper human-resource systems are bleeding talent and putting their reputation at risk, says Quinlan &amp; Associates. Huxley,  Ireland needs to tap venture capital more for FinTech funds Paul Ferreira, Senior ICT Architect, discusses how Automation and AI continue to transform processes with more opportunities than ever before, but soft skills, career transitions, fintech, careers, For Fintech Career Switchers, the Hardest Skills to Master May Be the Soft Ones - read this article along with other careers information, tips and advice on CFA Institute Career Center In the latest of our Future of Work series, we explore how emerging technologies will affect the fintech industry featuring Anne Boden of Starling Bank. Despite banks’ top executives insisting that COVID-19 is “not a crisis in banking or a financial crisis”, a number of fintechs have still been tested.</td>\n",
       "    </tr>\n",
       "    <tr>\n",
       "      <th>221</th>\n",
       "      <td>fintech belief</td>\n",
       "      <td>This has been a long time coming. As a millennial Muslim woman of colour, and a global Londoner blessed with an abundance of abodes, I am firmly committed to, and campaign for, countless causes… FinTech, banking technology, incumbents, innovation, disruption, disrupter(s), disruptor(s), Competition between banks and new entrants may give way to direct cooperation across the FinTech ecosystem. Opportunities exist for partnership and cooperation that would leverage each others strengths, whether in product design and development by the start-ups, or distribution and infrastructure capabilities by banks.\\n Banks and Fintechs: We see four steps to success for banks seeking to unleash the potential of FinTech in their organizations Fintech, a portmanteau of financial technology, is used describe\\xa0new tech that seeks to\\xa0improve and automate the delivery and use of financial services. The financial industry has been strongly influenced by digitalization in the past few years reflected by the emergence of “FinTech,” which represents the marriage of “finance” and “information technology.” FinTech provides opportunities for the creation of new services and business models and poses challenges to traditional financial service providers. Therefore, FinTech has become a subject of debate among practitioners, investors, and researchers and is highly visible in the popular media. In this study, we unveil the drivers motivating the FinTech phenomenon perceived by the English and German popular press including the subjects discussed in the context of FinTech. This study is the first one to reflect the media perspective on the FinTech phenomenon in the research. In doing so, we extend the growing knowledge on FinTech and contribute to a common understanding in the financial and digital innovation literature. These study contributes to research in the areas of information systems, finance and interdisciplinary social sciences. Moreover, it brings value to practitioners (entrepreneurs, investors, regulators, etc.), who explore the field of FinTech. Our new Fintech 2030: The Industry View Report sees the biggest names in fintech share their vision for the market over the next decade</td>\n",
       "    </tr>\n",
       "    <tr>\n",
       "      <th>382</th>\n",
       "      <td>fintech entrepreneur</td>\n",
       "      <td>Find out what skills and experience you should focus on to build your career from the ground up and become a successful fintech entrepreneur. The financial services industry has seen severe disruption, but that has only opened opportunities for entrepreneurs to leverage technology to deliver services more efficiently., Finance,Digital Trends,FinTech,stock market FinTech is already disrupting the world of finance at a rapid rate, and it is only going to become more and more entwined into the global ecosystem. Many companies and financial institutions have… Jens Münch discusses how despite seeing global investment in fintech rise to 3billion in 2013, most people are still unsure about what it actually is. Business Owners,Emerging markets,Financial innovation,Emerging companies,Digital transformation,Innovation,Fintech, From Singapore to South Africa, fintech firms are changing the face of financial services. Meet four entrepreneurs who are leading the way.  mondaq,Financial Services Regulations For The Fintech Entrepreneur,Finance and Banking,Financial Services,Technology,Fin Tech,, Partner Nathan Greene and associate Justin Reda (both New York-Investment Funds) have published a two-part article titled Financial Services Regulation for Fintech Companies , Diving into the Fintech space having studied History at Harvard, it is instantaneously clear that Brian is an Entrepreneur with adaptability at the forefront of his strengths. Speaking of his journey that has led to the creation of Future finance, Brian puts forward his plans to prepare for the next chapter of discovering the Universe. Who are the individuals that are driving the fintech wave, that are attracting billions of dollars in funding and that are transforming, and sometimes even disrupting, the financial services sector? Besides the big names\\xa0in Europe and America, where can they be found in Asia? They are the trailblazers of this movement, ...,  Business Owners,Emerging markets,Financial innovation,Emerging companies,Digital transformation,Innovation,Fintech, From Singapore to South Africa, fintech firms are changing the face of financial services. Meet four entrepreneurs who are leading the way.  Online Programme Catalogue - this site will provides online, searchable access to all of the approved Programmes and Modules, Modules, Catalogue, Prospectus, Programmes, List, Listings Jens Münch discusses how despite seeing global investment in fintech rise to 3billion in 2013, most people are still unsure about what it actually is. Find out what skills and experience you should focus on to build your career from the ground up and become a successful fintech entrepreneur. The financial services industry has seen severe disruption, but that has only opened opportunities for entrepreneurs to leverage technology to deliver services more efficiently., Finance,Digital Trends,FinTech,stock market , Diving into the Fintech space having studied History at Harvard, it is instantaneously clear that Brian is an Entrepreneur with adaptability at the forefront of his strengths. Speaking of his journey that has led to the creation of Future finance, Brian puts forward his plans to prepare for the next chapter of discovering the Universe. The Fintech Entrepreneurs Guide to Regulation and Regulatory Strategy  Fintech has been growing dramatically over the last few years, and it is now an important sector in its own right. This means that Fintech companies, who could so far often rely on a comparatively lenient regulatory regime, will now have to give serious thoughts on compliance with applicable regulatory rules.  Operating in a highly regulated environment is tedious, but not all badcompanies that can play the regulatory game well have a strategic advantage, especially with regard to time-to-market and scaling. Nothing spells missed opportunity like a competitor building market share with a copycat product whilst you are still waiting for your license!  Written for professionals, this book helps anyone whose job has to do with formulating or executing a Fintech startup strategy or whose job touches financial services regulation, or anyone who simply wants an easy- to-read introduction to financial services and their regulation.     Describes the purpose of and principle behind modern financial services regulation  Explains how to include regulation into a startups strategic planning to optimize time-to-market and scaling  Gives an overview of the entire financial services space, and which regulations apply where  Gives detailed references to 20 key regulations in the EU regulatory system, including PSD, GDPR, CRD, AMLD, MiFID, UCITSD, AIFMD    The first part introduces financial services regulation, its purpose, how it is created (especially in the EU and in the US), and it develops a framework for including regulations into the strategic planning of a company. It also gives a rundown of the current financial services spaceplayers and productsand its key regulations. The second part describes a regulatory system in more detail. The system chosen is the EU because it is more consistent and unified than the US system where a lot of the regulation still is created at the state-level. However, as most financial regulation nowadays is determined at the global level, the principles found in EU regulation will be by and large also be found the US and other systems. FinTech is already disrupting the world of finance at a rapid rate, and it is only going to become more and more entwined into the global ecosystem. Many companies and financial institutions have… Online Programme Catalogue - this site will provides online, searchable access to all of the approved Programmes and Modules, Modules, Catalogue, Prospectus, Programmes, List, Listings The Fintech Entrepreneurs Guide to Regulation and Regulatory Strategy  Fintech has been growing dramatically over the last few years, and it is now an important sector in its own right. This means that Fintech companies, who could so far often rely on a comparatively lenient regulatory regime, will now have to give serious thoughts on compliance with applicable regulatory rules.  Operating in a highly regulated environment is tedious, but not all badcompanies that can play the regulatory game well have a strategic advantage, especially with regard to time-to-market and scaling. Nothing spells missed opportunity like a competitor building market share with a copycat product whilst you are still waiting for your license!  Written for professionals, this book helps anyone whose job has to do with formulating or executing a Fintech startup strategy or whose job touches financial services regulation, or anyone who simply wants an easy- to-read introduction to financial services and their regulation.     Describes the purpose of and principle behind modern financial services regulation  Explains how to include regulation into a startups strategic planning to optimize time-to-market and scaling  Gives an overview of the entire financial services space, and which regulations apply where  Gives detailed references to 20 key regulations in the EU regulatory system, including PSD, GDPR, CRD, AMLD, MiFID, UCITSD, AIFMD    The first part introduces financial services regulation, its purpose, how it is created (especially in the EU and in the US), and it develops a framework for including regulations into the strategic planning of a company. It also gives a rundown of the current financial services spaceplayers and productsand its key regulations. The second part describes a regulatory system in more detail. The system chosen is the EU because it is more consistent and unified than the US system where a lot of the regulation still is created at the state-level. However, as most financial regulation nowadays is determined at the global level, the principles found in EU regulation will be by and large also be found the US and other systems. Who are the individuals that are driving the fintech wave, that are attracting billions of dollars in funding and that are transforming, and sometimes even disrupting, the financial services sector? Besides the big names\\xa0in Europe and America, where can they be found in Asia? They are the trailblazers of this movement, ...,  mondaq,Financial Services Regulations For The Fintech Entrepreneur,Finance and Banking,Financial Services,Technology,Fin Tech,, Partner Nathan Greene and associate Justin Reda (both New York-Investment Funds) have published a two-part article titled Financial Services Regulation for Fintech Companies</td>\n",
       "    </tr>\n",
       "    <tr>\n",
       "      <th>626</th>\n",
       "      <td>fintech jobs dot</td>\n",
       "      <td>Looking for the latest Payments or FinTech jobs? Our recruitment consultants specialize in personal attention and global (Remote) FinTech hiring. Our vacancies include commercial, product, project, compliance, IT positions in financial services, banking, and commerce. Job Search Page 1 - Castille Headcount is the leading payments and fintech recruitment agency worldwide. We’re passionate about payments, offering exclusive job opportunities and global ... 483 Internal Audit Fintech jobs available on Indeed.com. Apply to Internal Auditor, Senior Internal Auditor, Sox Manager and more!, Internal Audit Fintech Jobs, Employment,  careers,  employment,  job listings,  job search,  search engine, work in  View and apply for the Account Executive #FinTech job advertised by Soldo in London. View and apply for the Campaigns Manager #FinTech job advertised by Soldo in London. FinTech careers, FinTech job opportunities, fintech career opportunities, fintech jobs, Careers in FinTech section contains series of posts where we talk about specific skill set requirements to tap career and job opportunities available in the FinTech space. Dot Net Developer, An opportunity to join a leading development team in a successful and growing Fintech company. The team is responsible for designing and implementing inventive... IT jobs are in high demand among unemployed workers or college graduates, as well as qualified candidates are in short supply for most positions within the industry. Fintech, however, takes that to… Headcount is the leading payments and fintech recruitment agency worldwide. We’re passionate about payments, offering exclusive job opportunities and global ... 281 Internal Audit Fintech jobs available on Indeed.com. Apply to Internal Auditor, Senior Internal Auditor, Sox Manager and more!, Internal Audit Fintech Jobs, Employment,  careers,  employment,  job listings,  job search,  search engine, work in  View and apply for the Campaigns Manager #FinTech job advertised by Soldo in London. FinTech careers, FinTech job opportunities, fintech career opportunities, fintech jobs, Careers in FinTech section contains series of posts where we talk about specific skill set requirements to tap career and job opportunities available in the FinTech space. Dot Net Developer, An opportunity to join a leading development team in a successful and growing Fintech company. The team is responsible for designing and implementing inventive... Looking for the latest Payments or FinTech jobs? Our recruitment consultants specialize in personal attention and global (Remote) FinTech hiring. Our vacancies include commercial, product, project, compliance, IT positions in financial services, banking, and commerce. IT jobs are in high demand among unemployed workers or college graduates, as well as qualified candidates are in short supply for most positions within the industry. Fintech, however, takes that to… Job Search Page 1 - Castille View and apply for the Account Executive #FinTech job advertised by Soldo in London.</td>\n",
       "    </tr>\n",
       "    <tr>\n",
       "      <th>1100</th>\n",
       "      <td>fintech repetitive</td>\n",
       "      <td>The term fintech refers to the synergy between finance and technology, which is used to enhance business operations and delivery of financial services People still don’t fully trust consumer fintech, research shows. Has the pandemic created a new opportunity or fuelled further distrust? As the fintech market becomes saturated, and there is less and less differentiating brands in the same sector, the industry is entering a new era. KYC, verification, online identity, identity verification, ID, e-residency, background check, identity check, credit report, In our second fraud report, we take a look at the impact of financial crime and fraud on the world of fintech in 2020, and the most prevalent types of fraud seen by Veriff, with data gathered from our verification flows. As fintech has matured and VC funding flooded the market, Finovate has lost some of its excitement. Oliwia Berdak shares her thoughts on FinovateEurope 2020 With the world’s largest institutions facing an existential threat from new fintech challengers, all..., Finextra,news,online,bank,banking,technology,finance,financial,fin,tech,fintech,IT,breaking,latest,retail,transaction,trade,execution,headlines,blockchain,digital,investment,mobile,business,challenger,payments,regtech,insurtech,services Startups in the Fintech space face a number of issues and challenges, from regulatory to fundraising and competitive issues. Here are 10 of those key issues and challenges., fintech Fintech is transforming the financial services industry and will continue to do so in 2019. Robotic Process Automation (RPA), mobile payments, open banking, smart contracts, real-estate tokenization, regtech, and financial inclusion are all going to be trending fintech topics in the next year.</td>\n",
       "    </tr>\n",
       "  </tbody>\n",
       "</table>\n",
       "</div>"
      ],
      "text/plain": [
       "               search_term  \\\n",
       "715    fintech jobs longer   \n",
       "221         fintech belief   \n",
       "382   fintech entrepreneur   \n",
       "626       fintech jobs dot   \n",
       "1100    fintech repetitive   \n",
       "\n",
       "                                                                                                                                                                                                                                                                                                                                                                                                                                                                                                                                                                                                                                                                                                                                                                                                                                                                                                                                                                                                                                                                                                                                                                                                                                                                                                                                                                                                                                                                                                                                                                                                                                                                                                                                                                                                                                                                                                                                                                                                                                                                                                                                                                                                                                                                                                                                                                                                                                                                                                                                                                                                                                                                                                                                                                                                                                                                                                                                                                                                                                                                                                                                                                                                                                                                                                                                                                                                                                                                                                                                                                                                                                                                                                                                                                                                                                                                                                                                                                                                                                                                                                                                                                                                                                                                                                                                                                                                                                                                                                                                                                                                                                                                                                                                                                                                                                                                                                                                                                                                                                                                                                                                                                                                                                                                                                                                                                                                                                                                                                                                                                                                                                                                                                                                                                                                                                                                                                                                                                                                                                                                                                                                                                                                                                                                                                                                                                                                                                                                                                                                                                                                                                                                                                                                                                                                                                                                                                                                                                                                                                                                                                                                                                                                                                                                                                                                                                                                                                                                                                                                                                                                                                                                                                                                                                                                                                                                                                                                                                                                                                                                                                                                                                                                                                                                                                                                                                                                                                                                                                                                                                                                                                                                                                                                                                                                                                                                                                                                 metatags  \n",
       "715                                                                                                                                                                                                                                                                                                                                                                                                                                                                                                                                                                                                                                                                                                                                                                                                                                                                                                                                                                                                                                                                                                                                                                                                                                                                                                                                                                                                                                                                                                                                                                                                                                                                                                                                                                                                                                                                                                                                                                                                                                                                                                                                                                                                                                                                                                                                                                                                                                                                                                                                                                                                                                                                                                                                                                                                                                                                                                                                                                                                                                                                                                                                                                                                                                                                                                                                                                                                                                                                                                                                                                                                                                                                                                                                                                                                                                                                                                                                                                                                                                                                                                                                                                                                                                                                                                                                                                                                                                                                                                                                                                                                                                                                                                                                                                                                                                                                                                                                                                                                                                                                                                                                                                                                                                                                                                                                                                                                                                                                                                                                                                                                                                                                                                                                                                                                                                                                                                                                                                                                                                                                                                                                                                                                                                                                                                                                                                                                                                                                                                                                                                                                                                                                                                                                                                                                                                                                                                                                                                                                                                                                                                                                                                                                                                                                                                                                                                                                                                                                                                                                                                                                                                                                                                                                       What’s it really like working in fintech? We spoke to some industry professionals about the common myths on working in the sector. There are so many different roles up for grabs in the world of fintech. Here are the skills you need to develop to succeed. Fintech companies without proper human-resource systems are bleeding talent and putting their reputation at risk, says Quinlan & Associates. Huxley,  Ireland needs to tap venture capital more for FinTech funds Paul Ferreira, Senior ICT Architect, discusses how Automation and AI continue to transform processes with more opportunities than ever before, but soft skills, career transitions, fintech, careers, For Fintech Career Switchers, the Hardest Skills to Master May Be the Soft Ones - read this article along with other careers information, tips and advice on CFA Institute Career Center In the latest of our Future of Work series, we explore how emerging technologies will affect the fintech industry featuring Anne Boden of Starling Bank. Despite banks’ top executives insisting that COVID-19 is “not a crisis in banking or a financial crisis”, a number of fintechs have still been tested.  \n",
       "221                                                                                                                                                                                                                                                                                                                                                                                                                                                                                                                                                                                                                                                                                                                                                                                                                                                                                                                                                                                                                                                                                                                                                                                                                                                                                                                                                                                                                                                                                                                                                                                                                                                                                                                                                                                                                                                                                                                                                                                                                                                                                                                                                                                                                                                                                                                                                                                                                                                                                                                                                                                                                                                                                                                                                                                                                                                                                                                                                                                                                                                                                                                                                                                                                                                                                                                                                                                                                                                                                                                                                                                                                                                                                                                                                                                                                                                                                                                                                                                                                                                                                                                                                                                                                                                                                                                                                                                                                                                                                                                                                                                                                                                                                                                                                                                                                                                                                                                                                                                                                                                                                                                                                                                                                                                                                                                                                                                                                                                                                                                                                                                                                                                                                                                                                                                                                                                                                                                                                                                                                                                                                                                                                                                                                                                                                                                                                                                                                                                                                                                                                                                                                                         This has been a long time coming. As a millennial Muslim woman of colour, and a global Londoner blessed with an abundance of abodes, I am firmly committed to, and campaign for, countless causes… FinTech, banking technology, incumbents, innovation, disruption, disrupter(s), disruptor(s), Competition between banks and new entrants may give way to direct cooperation across the FinTech ecosystem. Opportunities exist for partnership and cooperation that would leverage each others strengths, whether in product design and development by the start-ups, or distribution and infrastructure capabilities by banks.\\n Banks and Fintechs: We see four steps to success for banks seeking to unleash the potential of FinTech in their organizations Fintech, a portmanteau of financial technology, is used describe\\xa0new tech that seeks to\\xa0improve and automate the delivery and use of financial services. The financial industry has been strongly influenced by digitalization in the past few years reflected by the emergence of “FinTech,” which represents the marriage of “finance” and “information technology.” FinTech provides opportunities for the creation of new services and business models and poses challenges to traditional financial service providers. Therefore, FinTech has become a subject of debate among practitioners, investors, and researchers and is highly visible in the popular media. In this study, we unveil the drivers motivating the FinTech phenomenon perceived by the English and German popular press including the subjects discussed in the context of FinTech. This study is the first one to reflect the media perspective on the FinTech phenomenon in the research. In doing so, we extend the growing knowledge on FinTech and contribute to a common understanding in the financial and digital innovation literature. These study contributes to research in the areas of information systems, finance and interdisciplinary social sciences. Moreover, it brings value to practitioners (entrepreneurs, investors, regulators, etc.), who explore the field of FinTech. Our new Fintech 2030: The Industry View Report sees the biggest names in fintech share their vision for the market over the next decade  \n",
       "382   Find out what skills and experience you should focus on to build your career from the ground up and become a successful fintech entrepreneur. The financial services industry has seen severe disruption, but that has only opened opportunities for entrepreneurs to leverage technology to deliver services more efficiently., Finance,Digital Trends,FinTech,stock market FinTech is already disrupting the world of finance at a rapid rate, and it is only going to become more and more entwined into the global ecosystem. Many companies and financial institutions have… Jens Münch discusses how despite seeing global investment in fintech rise to 3billion in 2013, most people are still unsure about what it actually is. Business Owners,Emerging markets,Financial innovation,Emerging companies,Digital transformation,Innovation,Fintech, From Singapore to South Africa, fintech firms are changing the face of financial services. Meet four entrepreneurs who are leading the way.  mondaq,Financial Services Regulations For The Fintech Entrepreneur,Finance and Banking,Financial Services,Technology,Fin Tech,, Partner Nathan Greene and associate Justin Reda (both New York-Investment Funds) have published a two-part article titled Financial Services Regulation for Fintech Companies , Diving into the Fintech space having studied History at Harvard, it is instantaneously clear that Brian is an Entrepreneur with adaptability at the forefront of his strengths. Speaking of his journey that has led to the creation of Future finance, Brian puts forward his plans to prepare for the next chapter of discovering the Universe. Who are the individuals that are driving the fintech wave, that are attracting billions of dollars in funding and that are transforming, and sometimes even disrupting, the financial services sector? Besides the big names\\xa0in Europe and America, where can they be found in Asia? They are the trailblazers of this movement, ...,  Business Owners,Emerging markets,Financial innovation,Emerging companies,Digital transformation,Innovation,Fintech, From Singapore to South Africa, fintech firms are changing the face of financial services. Meet four entrepreneurs who are leading the way.  Online Programme Catalogue - this site will provides online, searchable access to all of the approved Programmes and Modules, Modules, Catalogue, Prospectus, Programmes, List, Listings Jens Münch discusses how despite seeing global investment in fintech rise to 3billion in 2013, most people are still unsure about what it actually is. Find out what skills and experience you should focus on to build your career from the ground up and become a successful fintech entrepreneur. The financial services industry has seen severe disruption, but that has only opened opportunities for entrepreneurs to leverage technology to deliver services more efficiently., Finance,Digital Trends,FinTech,stock market , Diving into the Fintech space having studied History at Harvard, it is instantaneously clear that Brian is an Entrepreneur with adaptability at the forefront of his strengths. Speaking of his journey that has led to the creation of Future finance, Brian puts forward his plans to prepare for the next chapter of discovering the Universe. The Fintech Entrepreneurs Guide to Regulation and Regulatory Strategy  Fintech has been growing dramatically over the last few years, and it is now an important sector in its own right. This means that Fintech companies, who could so far often rely on a comparatively lenient regulatory regime, will now have to give serious thoughts on compliance with applicable regulatory rules.  Operating in a highly regulated environment is tedious, but not all badcompanies that can play the regulatory game well have a strategic advantage, especially with regard to time-to-market and scaling. Nothing spells missed opportunity like a competitor building market share with a copycat product whilst you are still waiting for your license!  Written for professionals, this book helps anyone whose job has to do with formulating or executing a Fintech startup strategy or whose job touches financial services regulation, or anyone who simply wants an easy- to-read introduction to financial services and their regulation.     Describes the purpose of and principle behind modern financial services regulation  Explains how to include regulation into a startups strategic planning to optimize time-to-market and scaling  Gives an overview of the entire financial services space, and which regulations apply where  Gives detailed references to 20 key regulations in the EU regulatory system, including PSD, GDPR, CRD, AMLD, MiFID, UCITSD, AIFMD    The first part introduces financial services regulation, its purpose, how it is created (especially in the EU and in the US), and it develops a framework for including regulations into the strategic planning of a company. It also gives a rundown of the current financial services spaceplayers and productsand its key regulations. The second part describes a regulatory system in more detail. The system chosen is the EU because it is more consistent and unified than the US system where a lot of the regulation still is created at the state-level. However, as most financial regulation nowadays is determined at the global level, the principles found in EU regulation will be by and large also be found the US and other systems. FinTech is already disrupting the world of finance at a rapid rate, and it is only going to become more and more entwined into the global ecosystem. Many companies and financial institutions have… Online Programme Catalogue - this site will provides online, searchable access to all of the approved Programmes and Modules, Modules, Catalogue, Prospectus, Programmes, List, Listings The Fintech Entrepreneurs Guide to Regulation and Regulatory Strategy  Fintech has been growing dramatically over the last few years, and it is now an important sector in its own right. This means that Fintech companies, who could so far often rely on a comparatively lenient regulatory regime, will now have to give serious thoughts on compliance with applicable regulatory rules.  Operating in a highly regulated environment is tedious, but not all badcompanies that can play the regulatory game well have a strategic advantage, especially with regard to time-to-market and scaling. Nothing spells missed opportunity like a competitor building market share with a copycat product whilst you are still waiting for your license!  Written for professionals, this book helps anyone whose job has to do with formulating or executing a Fintech startup strategy or whose job touches financial services regulation, or anyone who simply wants an easy- to-read introduction to financial services and their regulation.     Describes the purpose of and principle behind modern financial services regulation  Explains how to include regulation into a startups strategic planning to optimize time-to-market and scaling  Gives an overview of the entire financial services space, and which regulations apply where  Gives detailed references to 20 key regulations in the EU regulatory system, including PSD, GDPR, CRD, AMLD, MiFID, UCITSD, AIFMD    The first part introduces financial services regulation, its purpose, how it is created (especially in the EU and in the US), and it develops a framework for including regulations into the strategic planning of a company. It also gives a rundown of the current financial services spaceplayers and productsand its key regulations. The second part describes a regulatory system in more detail. The system chosen is the EU because it is more consistent and unified than the US system where a lot of the regulation still is created at the state-level. However, as most financial regulation nowadays is determined at the global level, the principles found in EU regulation will be by and large also be found the US and other systems. Who are the individuals that are driving the fintech wave, that are attracting billions of dollars in funding and that are transforming, and sometimes even disrupting, the financial services sector? Besides the big names\\xa0in Europe and America, where can they be found in Asia? They are the trailblazers of this movement, ...,  mondaq,Financial Services Regulations For The Fintech Entrepreneur,Finance and Banking,Financial Services,Technology,Fin Tech,, Partner Nathan Greene and associate Justin Reda (both New York-Investment Funds) have published a two-part article titled Financial Services Regulation for Fintech Companies  \n",
       "626                                                                                                                                                                                                                                                                                                                                                                                                                                                                                                                                                                                                                                                                                                                                                                                                                                                                                                                                                                                                                                                                                                                                                                                                                                                                                                                                                                                                                                                                                                                                                                                                                                                                                                                                                                                                                                                                                                                                                                                                                                                                                                                                                                                                                                                                                                                                                                                                                                                                                                                                                                                                                                                                                                                                                                                                                                                                                                                                                                                                                                                                                                                                                                                                                                                                                                                                                                                                                                                                                                                                                                                                                                                                                                                                                                                                                                                                                                                                                                                                                                                                                                                                                                                                                                                                                                                                                                                                                                                                                                                                                                                                                                                                                                                                                                                                                                                                                                                                                                                                                                                                                                                                                                                                                                                                                                                                                                                                                                                                                                                                                                                                                                                                                                                                                                         Looking for the latest Payments or FinTech jobs? Our recruitment consultants specialize in personal attention and global (Remote) FinTech hiring. Our vacancies include commercial, product, project, compliance, IT positions in financial services, banking, and commerce. Job Search Page 1 - Castille Headcount is the leading payments and fintech recruitment agency worldwide. We’re passionate about payments, offering exclusive job opportunities and global ... 483 Internal Audit Fintech jobs available on Indeed.com. Apply to Internal Auditor, Senior Internal Auditor, Sox Manager and more!, Internal Audit Fintech Jobs, Employment,  careers,  employment,  job listings,  job search,  search engine, work in  View and apply for the Account Executive #FinTech job advertised by Soldo in London. View and apply for the Campaigns Manager #FinTech job advertised by Soldo in London. FinTech careers, FinTech job opportunities, fintech career opportunities, fintech jobs, Careers in FinTech section contains series of posts where we talk about specific skill set requirements to tap career and job opportunities available in the FinTech space. Dot Net Developer, An opportunity to join a leading development team in a successful and growing Fintech company. The team is responsible for designing and implementing inventive... IT jobs are in high demand among unemployed workers or college graduates, as well as qualified candidates are in short supply for most positions within the industry. Fintech, however, takes that to… Headcount is the leading payments and fintech recruitment agency worldwide. We’re passionate about payments, offering exclusive job opportunities and global ... 281 Internal Audit Fintech jobs available on Indeed.com. Apply to Internal Auditor, Senior Internal Auditor, Sox Manager and more!, Internal Audit Fintech Jobs, Employment,  careers,  employment,  job listings,  job search,  search engine, work in  View and apply for the Campaigns Manager #FinTech job advertised by Soldo in London. FinTech careers, FinTech job opportunities, fintech career opportunities, fintech jobs, Careers in FinTech section contains series of posts where we talk about specific skill set requirements to tap career and job opportunities available in the FinTech space. Dot Net Developer, An opportunity to join a leading development team in a successful and growing Fintech company. The team is responsible for designing and implementing inventive... Looking for the latest Payments or FinTech jobs? Our recruitment consultants specialize in personal attention and global (Remote) FinTech hiring. Our vacancies include commercial, product, project, compliance, IT positions in financial services, banking, and commerce. IT jobs are in high demand among unemployed workers or college graduates, as well as qualified candidates are in short supply for most positions within the industry. Fintech, however, takes that to… Job Search Page 1 - Castille View and apply for the Account Executive #FinTech job advertised by Soldo in London.  \n",
       "1100                                                                                                                                                                                                                                                                                                                                                                                                                                                                                                                                                                                                                                                                                                                                                                                                                                                                                                                                                                                                                                                                                                                                                                                                                                                                                                                                                                                                                                                                                                                                                                                                                                                                                                                                                                                                                                                                                                                                                                                                                                                                                                                                                                                                                                                                                                                                                                                                                                                                                                                                                                                                                                                                                                                                                                                                                                                                                                                                                                                                                                                                                                                                                                                                                                                                                                                                                                                                                                                                                                                                                                                                                                                                                                                                                                                                                                                                                                                                                                                                                                                                                                                                                                                                                                                                                                                                                                                                                                                                                                                                                                                                                                                                                                                                                                                                                                                                                                                                                                                                                                                                                                                                                                                                                                                                                                                                                                                                                                                                                                                                                                                                                                                                                                                                                                                                                                                                                                                                                                                                                                                                                                                                                                                                                                                                                                                                                                                                                                                                                                                                                                                                                                                                                                                                                                                                                                                                                                                                                                                                                                                                                                        The term fintech refers to the synergy between finance and technology, which is used to enhance business operations and delivery of financial services People still don’t fully trust consumer fintech, research shows. Has the pandemic created a new opportunity or fuelled further distrust? As the fintech market becomes saturated, and there is less and less differentiating brands in the same sector, the industry is entering a new era. KYC, verification, online identity, identity verification, ID, e-residency, background check, identity check, credit report, In our second fraud report, we take a look at the impact of financial crime and fraud on the world of fintech in 2020, and the most prevalent types of fraud seen by Veriff, with data gathered from our verification flows. As fintech has matured and VC funding flooded the market, Finovate has lost some of its excitement. Oliwia Berdak shares her thoughts on FinovateEurope 2020 With the world’s largest institutions facing an existential threat from new fintech challengers, all..., Finextra,news,online,bank,banking,technology,finance,financial,fin,tech,fintech,IT,breaking,latest,retail,transaction,trade,execution,headlines,blockchain,digital,investment,mobile,business,challenger,payments,regtech,insurtech,services Startups in the Fintech space face a number of issues and challenges, from regulatory to fundraising and competitive issues. Here are 10 of those key issues and challenges., fintech Fintech is transforming the financial services industry and will continue to do so in 2019. Robotic Process Automation (RPA), mobile payments, open banking, smart contracts, real-estate tokenization, regtech, and financial inclusion are all going to be trending fintech topics in the next year.   "
      ]
     },
     "execution_count": 60,
     "metadata": {},
     "output_type": "execute_result"
    }
   ],
   "source": [
    "concat_df.sample(5)"
   ]
  },
  {
   "cell_type": "markdown",
   "metadata": {},
   "source": [
    "---\n",
    "\n",
    "## Only top 5 ranks"
   ]
  },
  {
   "cell_type": "code",
   "execution_count": 18,
   "metadata": {},
   "outputs": [
    {
     "data": {
      "text/html": [
       "<div>\n",
       "<style scoped>\n",
       "    .dataframe tbody tr th:only-of-type {\n",
       "        vertical-align: middle;\n",
       "    }\n",
       "\n",
       "    .dataframe tbody tr th {\n",
       "        vertical-align: top;\n",
       "    }\n",
       "\n",
       "    .dataframe thead th {\n",
       "        text-align: right;\n",
       "    }\n",
       "</style>\n",
       "<table border=\"1\" class=\"dataframe\">\n",
       "  <thead>\n",
       "    <tr style=\"text-align: right;\">\n",
       "      <th></th>\n",
       "      <th>search_term</th>\n",
       "      <th>url</th>\n",
       "      <th>position</th>\n",
       "      <th>metatags</th>\n",
       "    </tr>\n",
       "  </thead>\n",
       "  <tbody>\n",
       "    <tr>\n",
       "      <th>0</th>\n",
       "      <td>fintech ability</td>\n",
       "      <td>https://www.instarem.com/blog/the-5-most-in-demand-skills-in-the-fintech-industry/</td>\n",
       "      <td>2</td>\n",
       "      <td>As FinTech gains momentum year-on-year, there is a huge demand for professionals with specific FinTech skills. However, when it comes to tech talent, demand definitely outstrips supply. According to LinkedIn, the global skills gap for candidates with tech experience/expertise will hit 1.5 million by 2020. Thus, FinTech is a candidates market, and firms in the industry are scrambling to find skilled employees to fulfill critical roles.</td>\n",
       "    </tr>\n",
       "    <tr>\n",
       "      <th>2</th>\n",
       "      <td>fintech ability</td>\n",
       "      <td>https://www.huxley.com/en-gb/blog/2020/09/the-most-in-demand-skills-for-fintech/</td>\n",
       "      <td>1</td>\n",
       "      <td>Jonny Demko, Business Manager from our team in the London office, talks us through the top skills in demand within Fintech right now., Fintech\\nsoftware development\\nblockchain\\ndata\\ncybersecurity\\nDevOps\\nautomation</td>\n",
       "    </tr>\n",
       "    <tr>\n",
       "      <th>5</th>\n",
       "      <td>fintech ability</td>\n",
       "      <td>https://www.investopedia.com/terms/f/fintech.asp</td>\n",
       "      <td>4</td>\n",
       "      <td>Fintech, a portmanteau of financial technology, is used describe\\xa0new tech that seeks to\\xa0improve and automate the delivery and use of financial services.</td>\n",
       "    </tr>\n",
       "    <tr>\n",
       "      <th>6</th>\n",
       "      <td>fintech ability</td>\n",
       "      <td>https://junior-broker.com/life/careers/faqs-and-industry-information/fintech-recruitment/</td>\n",
       "      <td>3</td>\n",
       "      <td>After our long experience in helping people find out their perfect FinTech jobs, heres a list of most searched skills by FinTech recruitment companies.</td>\n",
       "    </tr>\n",
       "    <tr>\n",
       "      <th>8</th>\n",
       "      <td>fintech able</td>\n",
       "      <td>https://www.ableweare.com/</td>\n",
       "      <td>4</td>\n",
       "      <td>For more than 12 years, we have been combining software development, design and marketing know-how to create successful information systems, e-shops, web presentations and applications for customers around the world. Software development for the FinTech industry has been the key area of focus for us for the last couple of years. We tailor our work to each client and, at the same time, we create our own solutions as a response to demands of the global market.</td>\n",
       "    </tr>\n",
       "  </tbody>\n",
       "</table>\n",
       "</div>"
      ],
      "text/plain": [
       "       search_term  \\\n",
       "0  fintech ability   \n",
       "2  fintech ability   \n",
       "5  fintech ability   \n",
       "6  fintech ability   \n",
       "8     fintech able   \n",
       "\n",
       "                                                                                         url  \\\n",
       "0         https://www.instarem.com/blog/the-5-most-in-demand-skills-in-the-fintech-industry/   \n",
       "2           https://www.huxley.com/en-gb/blog/2020/09/the-most-in-demand-skills-for-fintech/   \n",
       "5                                           https://www.investopedia.com/terms/f/fintech.asp   \n",
       "6  https://junior-broker.com/life/careers/faqs-and-industry-information/fintech-recruitment/   \n",
       "8                                                                 https://www.ableweare.com/   \n",
       "\n",
       "   position  \\\n",
       "0         2   \n",
       "2         1   \n",
       "5         4   \n",
       "6         3   \n",
       "8         4   \n",
       "\n",
       "                                                                                                                                                                                                                                                                                                                                                                                                                                                                         metatags  \n",
       "0                          As FinTech gains momentum year-on-year, there is a huge demand for professionals with specific FinTech skills. However, when it comes to tech talent, demand definitely outstrips supply. According to LinkedIn, the global skills gap for candidates with tech experience/expertise will hit 1.5 million by 2020. Thus, FinTech is a candidates market, and firms in the industry are scrambling to find skilled employees to fulfill critical roles.  \n",
       "2                                                                                                                                                                                                                                                       Jonny Demko, Business Manager from our team in the London office, talks us through the top skills in demand within Fintech right now., Fintech\\nsoftware development\\nblockchain\\ndata\\ncybersecurity\\nDevOps\\nautomation  \n",
       "5                                                                                                                                                                                                                                                                                                                  Fintech, a portmanteau of financial technology, is used describe\\xa0new tech that seeks to\\xa0improve and automate the delivery and use of financial services.  \n",
       "6                                                                                                                                                                                                                                                                                                                         After our long experience in helping people find out their perfect FinTech jobs, heres a list of most searched skills by FinTech recruitment companies.  \n",
       "8  For more than 12 years, we have been combining software development, design and marketing know-how to create successful information systems, e-shops, web presentations and applications for customers around the world. Software development for the FinTech industry has been the key area of focus for us for the last couple of years. We tailor our work to each client and, at the same time, we create our own solutions as a response to demands of the global market.  "
      ]
     },
     "execution_count": 18,
     "metadata": {},
     "output_type": "execute_result"
    }
   ],
   "source": [
    "top_5 = master_df.loc[master_df['position'].isin([1, 2, 3, 4, 5])]\n",
    "top_5.head()"
   ]
  },
  {
   "cell_type": "code",
   "execution_count": 21,
   "metadata": {},
   "outputs": [
    {
     "data": {
      "text/html": [
       "<div>\n",
       "<style scoped>\n",
       "    .dataframe tbody tr th:only-of-type {\n",
       "        vertical-align: middle;\n",
       "    }\n",
       "\n",
       "    .dataframe tbody tr th {\n",
       "        vertical-align: top;\n",
       "    }\n",
       "\n",
       "    .dataframe thead th {\n",
       "        text-align: right;\n",
       "    }\n",
       "</style>\n",
       "<table border=\"1\" class=\"dataframe\">\n",
       "  <thead>\n",
       "    <tr style=\"text-align: right;\">\n",
       "      <th></th>\n",
       "      <th>search_term</th>\n",
       "      <th>metatags</th>\n",
       "    </tr>\n",
       "  </thead>\n",
       "  <tbody>\n",
       "    <tr>\n",
       "      <th>0</th>\n",
       "      <td>adaptor fintech</td>\n",
       "      <td>Much has been inked on whether and how FinTechs might disrupt or collaborate with Financial Services incumbents. More recently the larger banks are charting… Fintech Adapters is a consulting firm providing services for enabling the adoption of Fintech solutions into financial institutions ecosystem. Our service offerings, along the dimensions of Business Transformation, Business Innovation, and Business Operations, help banks and corporates address the</td>\n",
       "    </tr>\n",
       "    <tr>\n",
       "      <th>1</th>\n",
       "      <td>advice fintech</td>\n",
       "      <td>Like the Six Million Dollar Man’s bionic enhancements, digital technology can make mortal financial advisors better, stronger, faster.</td>\n",
       "    </tr>\n",
       "    <tr>\n",
       "      <th>2</th>\n",
       "      <td>aim fintech</td>\n",
       "      <td>This is the third of a series of 3 articles about FinTech written by Torsten Miland, Managing Partner AIMS Denmark, Global Head of Financial and Professional</td>\n",
       "    </tr>\n",
       "    <tr>\n",
       "      <th>3</th>\n",
       "      <td>aiming fintech</td>\n",
       "      <td>Clonakilty-based company hiring 150 and planning to float</td>\n",
       "    </tr>\n",
       "    <tr>\n",
       "      <th>4</th>\n",
       "      <td>algorithm fintech</td>\n",
       "      <td>According to a 2019 survey by GoBanking Rules it was identified that approximately 70 % of Americans have less than 1000 stashed in their savings. The poll also revealed that even 45 % of them have… Machine learning is gaining popularity in the FinTech sector, from public relations to investment decisions. But how exactly can tech companies incorporate machine learning into financial services to… matchi fintech trend algorithmic technology innovation software, Fintechs have incorporated algorithmic technology into their solutions especially for applications that use large amounts of historical and real time data.</td>\n",
       "    </tr>\n",
       "    <tr>\n",
       "      <th>...</th>\n",
       "      <td>...</td>\n",
       "      <td>...</td>\n",
       "    </tr>\n",
       "    <tr>\n",
       "      <th>1041</th>\n",
       "      <td>well fintech</td>\n",
       "      <td>, A WEEL é uma fintech de crédito com soluções financeiras para empresas. Antecipe recebíveis, financie fornecedores e tenha crédito para capital de giro. Crie sua conta!</td>\n",
       "    </tr>\n",
       "    <tr>\n",
       "      <th>1042</th>\n",
       "      <td>wondered fintech</td>\n",
       "      <td>While we are encouraged by the progress the industry has made to return to “normal,” the market for Series A fintech remains challenging for the vast majority of startup founders. It’s time to say goodbye to the days where users made use of complicated excel sheets to track and manage their expenses. Budgeting apps have grown in popularity over the years. The fintech revolution has led to the development of several financial services apps, allowing consumers to easily and efficiently keep track of their expenses, income and other finance needs, even investments in one place. This has led to a drastic change in how users think about their money matters! 🤔Ever wondered? FinTech Magazine answers in this article ⤵️...</td>\n",
       "    </tr>\n",
       "    <tr>\n",
       "      <th>1043</th>\n",
       "      <td>year fintech</td>\n",
       "      <td>The fintech revolution began in the last decade around the 2008 financial crisis with companies like Affirm, Credit Karma, Betterment, Kickstarter, Avant, Kabbage, Square, Stripe, Venmo, etc…</td>\n",
       "    </tr>\n",
       "    <tr>\n",
       "      <th>1044</th>\n",
       "      <td>younger fintech</td>\n",
       "      <td>Explore millions of resources from scholarly journals, books, newspapers, videos and more, on the ProQuest Platform. Hargreaves Lansdown joined the host of fintechs to have benefitted from the Covid-19 trading boom. While it’s hardly a new concept to perform household chores for a weekly allowance, the fintech startup MyMonii has given this well-worn tradition a modern facelift by listing chores in an app and adding a prepaid payment card. In this way, childrens experiences with pocket change has taken a digital form.</td>\n",
       "    </tr>\n",
       "    <tr>\n",
       "      <th>1045</th>\n",
       "      <td>zenefits fintech</td>\n",
       "      <td>The Zenefits People Platform brings everything HR into one radically simple, single app. Zenefits CEO Parker Conrad resigned amid questions about his companys handling of strict insurance industry regulations, Entrepreneurs,Investing,Personal Finance,Startups,Tech,Transformational Tech</td>\n",
       "    </tr>\n",
       "  </tbody>\n",
       "</table>\n",
       "<p>1046 rows × 2 columns</p>\n",
       "</div>"
      ],
      "text/plain": [
       "            search_term  \\\n",
       "0       adaptor fintech   \n",
       "1        advice fintech   \n",
       "2           aim fintech   \n",
       "3        aiming fintech   \n",
       "4     algorithm fintech   \n",
       "...                 ...   \n",
       "1041       well fintech   \n",
       "1042   wondered fintech   \n",
       "1043       year fintech   \n",
       "1044    younger fintech   \n",
       "1045   zenefits fintech   \n",
       "\n",
       "                                                                                                                                                                                                                                                                                                                                                                                                                                                                                                                                                                                                                                                                                                                                                 metatags  \n",
       "0                                                                                                                                                                                                                                                                               Much has been inked on whether and how FinTechs might disrupt or collaborate with Financial Services incumbents. More recently the larger banks are charting… Fintech Adapters is a consulting firm providing services for enabling the adoption of Fintech solutions into financial institutions ecosystem. Our service offerings, along the dimensions of Business Transformation, Business Innovation, and Business Operations, help banks and corporates address the   \n",
       "1                                                                                                                                                                                                                                                                                                                                                                                                                                                                                                                                                                                                                  Like the Six Million Dollar Man’s bionic enhancements, digital technology can make mortal financial advisors better, stronger, faster.  \n",
       "2                                                                                                                                                                                                                                                                                                                                                                                                                                                                                                                                                                                           This is the third of a series of 3 articles about FinTech written by Torsten Miland, Managing Partner AIMS Denmark, Global Head of Financial and Professional  \n",
       "3                                                                                                                                                                                                                                                                                                                                                                                                                                                                                                                                                                                                                                                                                               Clonakilty-based company hiring 150 and planning to float  \n",
       "4                                                                                                            According to a 2019 survey by GoBanking Rules it was identified that approximately 70 % of Americans have less than 1000 stashed in their savings. The poll also revealed that even 45 % of them have… Machine learning is gaining popularity in the FinTech sector, from public relations to investment decisions. But how exactly can tech companies incorporate machine learning into financial services to… matchi fintech trend algorithmic technology innovation software, Fintechs have incorporated algorithmic technology into their solutions especially for applications that use large amounts of historical and real time data.  \n",
       "...                                                                                                                                                                                                                                                                                                                                                                                                                                                                                                                                                                                                                                                                                                                                                   ...  \n",
       "1041                                                                                                                                                                                                                                                                                                                                                                                                                                                                                                                                                                           , A WEEL é uma fintech de crédito com soluções financeiras para empresas. Antecipe recebíveis, financie fornecedores e tenha crédito para capital de giro. Crie sua conta!  \n",
       "1042  While we are encouraged by the progress the industry has made to return to “normal,” the market for Series A fintech remains challenging for the vast majority of startup founders. It’s time to say goodbye to the days where users made use of complicated excel sheets to track and manage their expenses. Budgeting apps have grown in popularity over the years. The fintech revolution has led to the development of several financial services apps, allowing consumers to easily and efficiently keep track of their expenses, income and other finance needs, even investments in one place. This has led to a drastic change in how users think about their money matters! 🤔Ever wondered? FinTech Magazine answers in this article ⤵️...  \n",
       "1043                                                                                                                                                                                                                                                                                                                                                                                                                                                                                                                                                      The fintech revolution began in the last decade around the 2008 financial crisis with companies like Affirm, Credit Karma, Betterment, Kickstarter, Avant, Kabbage, Square, Stripe, Venmo, etc…  \n",
       "1044                                                                                                                                                                                                          Explore millions of resources from scholarly journals, books, newspapers, videos and more, on the ProQuest Platform. Hargreaves Lansdown joined the host of fintechs to have benefitted from the Covid-19 trading boom. While it’s hardly a new concept to perform household chores for a weekly allowance, the fintech startup MyMonii has given this well-worn tradition a modern facelift by listing chores in an app and adding a prepaid payment card. In this way, childrens experiences with pocket change has taken a digital form.  \n",
       "1045                                                                                                                                                                                                                                                                                                                                                                                                                                                       The Zenefits People Platform brings everything HR into one radically simple, single app. Zenefits CEO Parker Conrad resigned amid questions about his companys handling of strict insurance industry regulations, Entrepreneurs,Investing,Personal Finance,Startups,Tech,Transformational Tech  \n",
       "\n",
       "[1046 rows x 2 columns]"
      ]
     },
     "execution_count": 21,
     "metadata": {},
     "output_type": "execute_result"
    }
   ],
   "source": [
    "concat_df_top_5 = top_5.groupby('search_term')['metatags'].apply(' '.join).reset_index()\n",
    "concat_df_top_5"
   ]
  },
  {
   "cell_type": "markdown",
   "metadata": {},
   "source": [
    "---\n",
    "\n",
    "## Group Search Terms and Concatenate their Strings"
   ]
  },
  {
   "cell_type": "code",
   "execution_count": 24,
   "metadata": {},
   "outputs": [],
   "source": [
    "# master_df.to_csv('linux_master_df.csv', index = False)\n",
    "# concat_df.to_csv('linux_concat_df.csv', index = False)\n",
    "# top_5.to_csv('linux_master_top_5.csv', index = False)\n",
    "# concat_df_top_5.to_csv('linux_concat_top_5.csv', index = False)"
   ]
  }
 ],
 "metadata": {
  "kernelspec": {
   "display_name": "Python 3.8.5 64-bit ('base': conda)",
   "name": "python385jvsc74a57bd0d98b4cf575a891b97ea43402398b6b9082f9e1cf0f07109cc211caf32ce43040"
  },
  "language_info": {
   "name": "python",
   "version": ""
  }
 },
 "nbformat": 4,
 "nbformat_minor": 5
}