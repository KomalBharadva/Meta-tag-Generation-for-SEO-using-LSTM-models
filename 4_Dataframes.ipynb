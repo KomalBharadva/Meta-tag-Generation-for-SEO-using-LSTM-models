{
 "cells": [
  {
   "cell_type": "code",
   "execution_count": 10,
   "metadata": {},
   "outputs": [],
   "source": [
    "from pickle import load, dump\n",
    "import numpy as np\n",
    "import pandas as pd"
   ]
  },
  {
   "cell_type": "code",
   "execution_count": 61,
   "metadata": {},
   "outputs": [],
   "source": [
    "# load the search terms lists\n",
    "path_linux = '/home/marcelo/Dropbox/Marcelo/Mestrado/NCI/Data_Mining_and_Machine_Learning_2/project/'\n",
    "\n",
    "bigrams1_search_terms = load(open(path_linux + 'pickles/bigrams1_glossary.pkl', 'rb'))\n",
    "bigrams2_search_terms = load(open(path_linux + 'pickles/bigrams2_glossary.pkl', 'rb'))\n",
    "trigrams1_search_terms = load(open(path_linux + 'pickles/trigrams1_glossary.pkl', 'rb'))\n",
    "trigrams2_search_terms = load(open(path_linux + 'pickles/trigrams2_glossary.pkl', 'rb'))\n",
    "trigrams3_search_terms = load(open(path_linux + 'pickles/trigrams3_glossary.pkl', 'rb'))\n",
    "trigrams4_search_terms = load(open(path_linux + 'pickles/trigrams4_glossary.pkl', 'rb'))\n",
    "trigrams5_search_terms = load(open(path_linux + 'pickles/trigrams5_glossary.pkl', 'rb'))\n",
    "trigrams6_search_terms = load(open(path_linux + 'pickles/trigrams6_glossary.pkl', 'rb'))\n",
    "\n",
    "# load the urls\n",
    "with open(path_linux + 'links_list_bigrams1_lemmed.txt', 'r') as f:\n",
    "    bigrams1_urls = f.read().split('\\n')\n",
    "    \n",
    "with open(path_linux + 'links_list_bigrams2_lemmed.txt', 'r') as f:\n",
    "    bigrams2_urls = f.read().split('\\n')\n",
    "    \n",
    "with open(path_linux + 'links_list_trigrams1_lemmed.txt', 'r') as f:\n",
    "    trigrams1_urls = f.read().split('\\n')\n",
    "\n",
    "with open(path_linux + 'links_list_trigrams2_lemmed.txt', 'r') as f:\n",
    "    trigrams2_urls = f.read().split('\\n')\n",
    "\n",
    "with open(path_linux + 'links_list_trigrams3_lemmed.txt', 'r') as f:\n",
    "    trigrams3_urls = f.read().split('\\n')\n",
    "\n",
    "with open(path_linux + 'links_list_trigrams4_lemmed.txt', 'r') as f:\n",
    "    trigrams4_urls = f.read().split('\\n')\n",
    "\n",
    "with open(path_linux + 'links_list_trigrams5_lemmed.txt', 'r') as f:\n",
    "    trigrams5_urls = f.read().split('\\n')\n",
    "\n",
    "with open(path_linux + 'links_list_trigrams6_lemmed.txt', 'r') as f:\n",
    "    trigrams6_urls = f.read().split('\\n')\n",
    "\n",
    "# load the metatags lists\n",
    "metatags_bigrams1 = load(open(path_linux + 'pickles/metatags_bigrams1_linux.pkl', 'rb'))\n",
    "metatags_bigrams2 = load(open(path_linux + 'pickles/metatags_bigrams2_linux.pkl', 'rb'))\n",
    "metatags_trigrams1 = load(open(path_linux + 'pickles/metatags_trigrams1_linux.pkl', 'rb'))\n",
    "metatags_trigrams2 = load(open(path_linux + 'pickles/metatags_trigrams2_linux.pkl', 'rb'))\n",
    "metatags_trigrams3 = load(open(path_linux + 'pickles/metatags_trigrams3_linux.pkl', 'rb'))\n",
    "metatags_trigrams4 = load(open(path_linux + 'pickles/metatags_trigrams4_linux.pkl', 'rb'))\n",
    "metatags_trigrams5 = load(open(path_linux + 'pickles/metatags_trigrams5_linux.pkl', 'rb'))\n",
    "metatags_trigrams6 = load(open(path_linux + 'pickles/metatags_trigrams6_linux.pkl', 'rb'))"
   ]
  },
  {
   "cell_type": "code",
   "execution_count": 62,
   "metadata": {},
   "outputs": [],
   "source": [
    "# Create a list that represent the rank of each website during each search\n",
    "possible_ranks = [1,2,3,4,5,6,7,8,9,10]\n",
    "\n",
    "# Extend the ranks list to consider 10 ranks for each search term for the bigrams\n",
    "bigrams_ranks = possible_ranks * len(bigrams1_search_terms)\n",
    "\n",
    "# Extend the ranks list to consider 10 ranks for each search term for the trigrams\n",
    "trigrams_ranks = possible_ranks * len(trigrams1_search_terms)\n",
    "\n",
    "# There are 10 links for each search term, so we need to repeat each 10 times\n",
    "bigrams1_search_terms = np.repeat(bigrams1_search_terms, 10)\n",
    "bigrams2_search_terms = np.repeat(bigrams2_search_terms, 10)\n",
    "trigrams1_search_terms = np.repeat(trigrams1_search_terms, 10)\n",
    "trigrams2_search_terms = np.repeat(trigrams2_search_terms, 10)\n",
    "trigrams3_search_terms = np.repeat(trigrams3_search_terms, 10)\n",
    "trigrams4_search_terms = np.repeat(trigrams4_search_terms, 10)\n",
    "trigrams5_search_terms = np.repeat(trigrams5_search_terms, 10)\n",
    "trigrams6_search_terms = np.repeat(trigrams6_search_terms, 10)"
   ]
  },
  {
   "cell_type": "code",
   "execution_count": 63,
   "metadata": {},
   "outputs": [],
   "source": [
    "metas_lst = [metatags_bigrams1, metatags_bigrams2, metatags_trigrams1,\n",
    "             metatags_trigrams2, metatags_trigrams3, metatags_trigrams4,\n",
    "             metatags_trigrams5, metatags_trigrams6]\n",
    "\n",
    "# pop the last item from each metatags list so that all of the items in the\n",
    "# dict have the same length\n",
    "for item in metas_lst:\n",
    "    item.pop()\n",
    "\n",
    "# dictionaries to create the dataframes\n",
    "bigrams1_dict = {'search_term': bigrams1_search_terms,\n",
    "               'url': bigrams1_urls,\n",
    "               'position': bigrams_ranks,\n",
    "               'metatags': metatags_bigrams1}\n",
    "\n",
    "bigrams2_dict = {'search_term': bigrams2_search_terms,\n",
    "               'url': bigrams2_urls,\n",
    "               'position': bigrams_ranks,\n",
    "               'metatags': metatags_bigrams2}\n",
    "\n",
    "trigrams1_dict = {'search_term': trigrams1_search_terms,\n",
    "               'url': trigrams1_urls,\n",
    "               'position': trigrams_ranks,\n",
    "               'metatags': metatags_trigrams1}\n",
    "\n",
    "trigrams2_dict = {'search_term': trigrams2_search_terms,\n",
    "               'url': trigrams2_urls,\n",
    "               'position': trigrams_ranks,\n",
    "               'metatags': metatags_trigrams2}\n",
    "\n",
    "trigrams3_dict = {'search_term': trigrams1_search_terms,\n",
    "                'url': trigrams3_urls,\n",
    "                'position': trigrams_ranks,\n",
    "                'metatags': metatags_trigrams3}\n",
    "\n",
    "trigrams4_dict = {'search_term': trigrams1_search_terms,\n",
    "               'url': trigrams4_urls,\n",
    "               'position': trigrams_ranks,\n",
    "               'metatags': metatags_trigrams4}\n",
    "\n",
    "trigrams5_dict = {'search_term': trigrams1_search_terms,\n",
    "               'url': trigrams5_urls,\n",
    "               'position': trigrams_ranks,\n",
    "               'metatags': metatags_trigrams5}\n",
    "\n",
    "trigrams6_dict = {'search_term': trigrams1_search_terms,\n",
    "               'url': trigrams6_urls,\n",
    "               'position': trigrams_ranks,\n",
    "               'metatags': metatags_trigrams6}"
   ]
  },
  {
   "cell_type": "code",
   "execution_count": 70,
   "metadata": {},
   "outputs": [],
   "source": [
    "dfs_names = ['bigrams1_df', 'bigrams2_df', 'trigrams1_df', 'trigrams2_df', 'trigrams3_df', 'trigrams4_df', 'trigrams5_df', 'trigrams6_df']\n",
    "\n",
    "df_dicts = [bigrams1_dict, bigrams2_dict, trigrams1_dict, trigrams2_dict, trigrams3_dict, trigrams4_dict, trigrams5_dict, trigrams6_dict]\n",
    "\n",
    "# zip both lists above to create all the dataframes in a dictionary comprehension in one go\n",
    "dfs = {name: pd.DataFrame(df_dict) for (name, df_dict) in list(zip(dfs_names, df_dicts))}"
   ]
  },
  {
   "cell_type": "code",
   "execution_count": 79,
   "metadata": {},
   "outputs": [],
   "source": [
    "# organize the dataframes in alphabetical order by the 'search term' column\n",
    "for df in dfs.values():\n",
    "    df.sort_values(by='search_term', inplace=True)"
   ]
  },
  {
   "cell_type": "code",
   "execution_count": 84,
   "metadata": {},
   "outputs": [],
   "source": [
    "for df_name, df in dfs.items():\n",
    "    df.to_csv(df_name + '.csv', index=False)"
   ]
  }
 ],
 "metadata": {
  "kernelspec": {
   "display_name": "Python 3",
   "language": "python",
   "name": "python3"
  },
  "language_info": {
   "codemirror_mode": {
    "name": "ipython",
    "version": 3
   },
   "file_extension": ".py",
   "mimetype": "text/x-python",
   "name": "python",
   "nbconvert_exporter": "python",
   "pygments_lexer": "ipython3",
   "version": "3.8.5"
  }
 },
 "nbformat": 4,
 "nbformat_minor": 5
}